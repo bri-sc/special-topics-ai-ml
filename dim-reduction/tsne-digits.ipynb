{
 "cells": [
  {
   "cell_type": "markdown",
   "metadata": {},
   "source": [
    "# Using t-SNE in Practice\n",
    "\n",
    "Previously, we looked at the details of how the t-SNE algorithm works. \n",
    "However, as with many things in data science, the t-SNE algorithm has already been implemented in existing software. \n",
    "Specifically, we will look at using t-SNE from `scikit-learn`. \n",
    "We will look at how t-SNE handles the MNIST handwritten digits data, so let's start by reading that file. "
   ]
  },
  {
   "cell_type": "code",
   "execution_count": null,
   "metadata": {},
   "outputs": [],
   "source": [
    "import pandas as pd\n",
    "\n",
    "data = pd.read_csv('./../data/mnist.csv')"
   ]
  },
  {
   "cell_type": "markdown",
   "metadata": {},
   "source": [
    "Instead of working with the entire dataset, we will take just a subsample of the data and work with that. \n",
    "This will help our t-SNE algorithm run a bit faster. "
   ]
  },
  {
   "cell_type": "code",
   "execution_count": null,
   "metadata": {},
   "outputs": [],
   "source": [
    "subsample = data.sample(n=1000, random_state=42)\n",
    "subsample"
   ]
  },
  {
   "cell_type": "markdown",
   "metadata": {},
   "source": [
    "## Hyperparameters of t-SNE\n",
    "\n",
    "Unlike PCA, t-SNE has some so-called hyperparameters that can be used to control algorithm implementation. \n",
    "We have already met one of these, but we will highlight a few others in this section. \n",
    "\n",
    "### Perplexity\n",
    "\n",
    "We will start by looking at the effect of changing the perplexity on the results from t-SNE. \n",
    "When discussing the algorithm, it was mentioned that the perplexity balances between the local and global structure. \n",
    "Let's start with the default value for the `TSNE` object from `scikit-learn`, which is 30. "
   ]
  },
  {
   "cell_type": "code",
   "execution_count": null,
   "metadata": {},
   "outputs": [],
   "source": [
    "from sklearn.manifold import TSNE\n",
    "\n",
    "def control_hyperparameters(perplexity=30, learning_rate='auto', early_exaggeration=12):\n",
    "    \"\"\"\n",
    "    A helper function to control hyperparameters of t-SNE.\n",
    "    \"\"\"\n",
    "    dataset = subsample.copy()\n",
    "    tsne = TSNE(n_components=2, \n",
    "                perplexity=perplexity, \n",
    "                learning_rate=learning_rate, \n",
    "                early_exaggeration=early_exaggeration, \n",
    "                random_state=42)\n",
    "    tsne_result = tsne.fit_transform(dataset.drop('label', axis=1))\n",
    "    dataset['tSNE1'] = tsne_result[:, 0]\n",
    "    dataset['tSNE2'] = tsne_result[:, 1]\n",
    "    return dataset\n",
    "\n",
    "perplexity_30 = control_hyperparameters(perplexity=30)"
   ]
  },
  {
   "cell_type": "markdown",
   "metadata": {},
   "source": [
    "The above function can be reused to test different values. \n",
    "Let's look at how the data are distributed with a perplexity of 30. "
   ]
  },
  {
   "cell_type": "code",
   "execution_count": null,
   "metadata": {},
   "outputs": [],
   "source": [
    "import matplotlib.pyplot as plt\n",
    "import seaborn as sns\n",
    "\n",
    "fig, ax = plt.subplots(figsize=(9, 7))\n",
    "sns.scatterplot(x='tSNE1', y='tSNE2', hue='label', legend='full', data=perplexity_30, ax=ax)\n",
    "ax.set_aspect('equal')\n",
    "plt.show()"
   ]
  },
  {
   "cell_type": "markdown",
   "metadata": {},
   "source": [
    "There are some clear clusters of given numbers. \n",
    "A low perplexity value is associated with local structure over global structure. \n",
    "However, for extremely small values of perplexity, this can lead to many small clusters. \n",
    "Consider a perplexity of the value of 1. "
   ]
  },
  {
   "cell_type": "code",
   "execution_count": null,
   "metadata": {},
   "outputs": [],
   "source": [
    "perplexity_1 = control_hyperparameters(perplexity=1)\n",
    "fig, ax = plt.subplots(figsize=(9, 7))\n",
    "sns.scatterplot(x='tSNE1', y='tSNE2', hue='label', legend='full', data=perplexity_1, ax=ax)\n",
    "ax.set_aspect('equal')\n",
    "plt.show()"
   ]
  },
  {
   "cell_type": "markdown",
   "metadata": {},
   "source": [
    "Meanwhile, a large perplexity value prioritises the global structure over the local. \n",
    "Again, this can have undesirable results for extreme values -- producing data lacks structure.  "
   ]
  },
  {
   "cell_type": "code",
   "execution_count": null,
   "metadata": {},
   "outputs": [],
   "source": [
    "perplexity_600 = control_hyperparameters(perplexity=600)\n",
    "fig, ax = plt.subplots(figsize=(9, 7))\n",
    "sns.scatterplot(x='tSNE1', y='tSNE2', hue='label', legend='full', data=perplexity_600, ax=ax)\n",
    "ax.set_aspect('equal')\n",
    "plt.show()"
   ]
  },
  {
   "cell_type": "markdown",
   "metadata": {},
   "source": [
    "The perplexity is probably the most important hyperparameter in the use of t-SNE. \n",
    "Unfortunately, there is no simple rule for selecting the value of perplexity.\n",
    "Generally, the best advice is to test a few different values and decide which value leads to the most informative transformed data for the problem at hand. \n",
    "\n",
    "### Learning Rate\n",
    "\n",
    "The learning rate affects the algorithm used to minimise the KL divergence. \n",
    "High learning rates can lead to faster convergence but may overshoot the minimum or cause instability. "
   ]
  },
  {
   "cell_type": "code",
   "execution_count": null,
   "metadata": {},
   "outputs": [],
   "source": [
    "perplexity_1 = control_hyperparameters(learning_rate=5000)\n",
    "fig, ax = plt.subplots(figsize=(9, 7))\n",
    "sns.scatterplot(x='tSNE1', y='tSNE2', hue='label', legend='full', data=perplexity_1, ax=ax)\n",
    "ax.set_aspect('equal')\n",
    "plt.show()"
   ]
  },
  {
   "cell_type": "markdown",
   "metadata": {},
   "source": [
    "A low learning rate will lead to a very slow convergence. \n",
    "\n",
    "### Early Exaggeration\n",
    "\n",
    "Another hyperparameter that impacts the minimisation process it the early exaggeration. \n",
    "This involves exaggerating the affinities in high dimensional space during the initial stages of the algorithm. \n",
    "This can be important in creating more meaningful clusters. \n",
    "\n",
    "We can see the impact of no early exaggeration for the MNIST dataset below. "
   ]
  },
  {
   "cell_type": "code",
   "execution_count": null,
   "metadata": {},
   "outputs": [],
   "source": [
    "perplexity_1 = control_hyperparameters(early_exaggeration=1)\n",
    "fig, ax = plt.subplots(figsize=(9, 7))\n",
    "sns.scatterplot(x='tSNE1', y='tSNE2', hue='label', legend='full', data=perplexity_1, ax=ax)\n",
    "ax.set_aspect('equal')\n",
    "plt.show()"
   ]
  }
 ],
 "metadata": {
  "kernelspec": {
   "display_name": "special-topics",
   "language": "python",
   "name": "python3"
  },
  "language_info": {
   "codemirror_mode": {
    "name": "ipython",
    "version": 3
   },
   "file_extension": ".py",
   "mimetype": "text/x-python",
   "name": "python",
   "nbconvert_exporter": "python",
   "pygments_lexer": "ipython3",
   "version": "3.11.11"
  }
 },
 "nbformat": 4,
 "nbformat_minor": 2
}
