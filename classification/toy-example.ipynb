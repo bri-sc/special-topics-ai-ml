{
 "cells": [
  {
   "cell_type": "markdown",
   "metadata": {},
   "source": [
    "# A Toy Example\n",
    "\n",
    "To show logistic regression in practice, we will use a toy problem, specifically the [data shown below](../data/toy.csv). "
   ]
  },
  {
   "cell_type": "code",
   "execution_count": null,
   "metadata": {},
   "outputs": [],
   "source": [
    "import pandas as pd\n",
    "import matplotlib.pyplot as plt\n",
    "import seaborn as sns\n",
    "\n",
    "data = pd.read_csv(\"../data/toy.csv\")\n",
    "\n",
    "fix, ax = plt.subplots()\n",
    "sns.scatterplot(x='x', y='y', data=data, hue='label', ax=ax)\n",
    "plt.show()"
   ]
  },
  {
   "cell_type": "markdown",
   "metadata": {},
   "source": [
    "This data is two-dimensional, with an *x* and *y*-dimension. \n",
    "Each data point is labelled as either `a` or `b`. \n",
    "Clearly, `b`-points generally have larger values in both *x* and *y*. \n",
    "Therefore, it should be straightforward to produce a classification algorithm for this. \n",
    "\n",
    "However, the labels are not currently computer-readable, and to use the logistic function described previously, we need to encode them as 1s and 0s. \n",
    "Below, we add this encoding to the pandas `DataFrame`. \n",
    "````{margin}\n",
    "```{note}\n",
    "This can also be achieved with a pandas `apply` method using a `lambda` function. \n",
    "You can find information online on how to achieve this. \n",
    "```\n",
    "````"
   ]
  },
  {
   "cell_type": "code",
   "execution_count": null,
   "metadata": {},
   "outputs": [],
   "source": [
    "data['encoded_label'] = [1 if i == 'b' else 0 for i in data['label'].values]\n",
    "data"
   ]
  },
  {
   "cell_type": "markdown",
   "metadata": {},
   "source": [
    "## Splitting the Data\n",
    "\n",
    "Since we are applying this to a supervised machine learning approach, splitting the data into training and testing data is good practice. \n",
    "The training data is used to develop the model, where the weights and bias are optimised. \n",
    "The testing data is used to check that the model is well generalised and can be applied to data it has not seen before. \n",
    "We can use the `sklearn.model_selection.train_test_split` method to separate the data. "
   ]
  },
  {
   "cell_type": "code",
   "execution_count": null,
   "metadata": {},
   "outputs": [],
   "source": [
    "from sklearn.model_selection import train_test_split\n",
    "\n",
    "train, test = train_test_split(data, test_size=0.2, random_state=0)\n",
    "\n",
    "fig, ax = plt.subplots(1, 2, figsize=(10, 4), sharex=True, sharey=True)\n",
    "sns.scatterplot(x='x', y='y', data=train, hue='label', ax=ax[0])\n",
    "sns.scatterplot(x='x', y='y', data=test, hue='label', ax=ax[1])\n",
    "ax[0].set_title('Training Data')\n",
    "ax[1].set_title('Testing Data')\n",
    "plt.show()"
   ]
  },
  {
   "cell_type": "markdown",
   "metadata": {},
   "source": [
    "Above, we kept 20 % of the data for testing and will use 80 % for training. \n",
    "\n",
    "## Training\n",
    "\n",
    "To perform the training/optimisation, we will write our own implementation of the gradient descent algorithm. \n",
    "To do this, let's take advantage of the [JAX library](https://jax.readthedocs.io) and the built-in [automatic differentiation](/maths/autodifferentiation.ipynb) that it enables. \n",
    "To start, we will turn all necessary values into `jnp.array` objects. "
   ]
  },
  {
   "cell_type": "code",
   "execution_count": 4,
   "metadata": {},
   "outputs": [],
   "source": [
    "import jax.numpy as jnp\n",
    "\n",
    "X = jnp.array(train[['x', 'y']].values)\n",
    "y = jnp.array(train['encoded_label'].values)"
   ]
  },
  {
   "cell_type": "markdown",
   "metadata": {},
   "source": [
    "Next, we will create random values for the weights and bias. "
   ]
  },
  {
   "cell_type": "code",
   "execution_count": null,
   "metadata": {},
   "outputs": [],
   "source": [
    "from jax import random\n",
    "\n",
    "key = random.PRNGKey(0)\n",
    "weights = random.normal(key, (2))\n",
    "bias = random.normal(key, (1))\n",
    "weights, bias"
   ]
  },
  {
   "cell_type": "markdown",
   "metadata": {},
   "source": [
    "Now, we create the function that is to be optimised. \n",
    "This is achieved by bringing together the parts [discussed previously](./logistic-regression.ipynb).\n",
    "Below, we define a single function that encapsulates the calculation of the loss function that we are looking to optimise. "
   ]
  },
  {
   "cell_type": "code",
   "execution_count": 6,
   "metadata": {},
   "outputs": [],
   "source": [
    "from jax.lax import logistic\n",
    "\n",
    "def to_optimise(weights, bias):\n",
    "    z = jnp.dot(X, weights) + bias\n",
    "    f = logistic(z)\n",
    "    L = -1 * jnp.mean((y * jnp.log(f) + (1 - y) * jnp.log(1 - f)))\n",
    "    return L"
   ]
  },
  {
   "cell_type": "markdown",
   "metadata": {},
   "source": [
    "Using JAX, we can find the first derivative easily. "
   ]
  },
  {
   "cell_type": "code",
   "execution_count": 7,
   "metadata": {},
   "outputs": [],
   "source": [
    "from jax import grad\n",
    "\n",
    "first_order = grad(to_optimise)"
   ]
  },
  {
   "cell_type": "markdown",
   "metadata": {},
   "source": [
    "Finally, we implement the gradient descent algorithm where the step size is the *learning rate*. "
   ]
  },
  {
   "cell_type": "code",
   "execution_count": 8,
   "metadata": {},
   "outputs": [],
   "source": [
    "learning_rate = 0.01\n",
    "\n",
    "result = first_order(weights, bias)\n",
    "\n",
    "for i in range(2000):\n",
    "    weights = weights - learning_rate * result[:-1]\n",
    "    bias = bias - learning_rate * result[-1]\n",
    "    result = first_order(weights, bias)"
   ]
  },
  {
   "cell_type": "markdown",
   "metadata": {},
   "source": [
    "We run this for 2000 iterations, with a learning rate of 0.01. \n",
    "These are the hyperparameters of our logistic regression function. \n",
    "We can now see the values for the weights and bias. "
   ]
  },
  {
   "cell_type": "code",
   "execution_count": null,
   "metadata": {},
   "outputs": [],
   "source": [
    "weights, bias"
   ]
  },
  {
   "cell_type": "markdown",
   "metadata": {},
   "source": [
    "These values can then be used to classify the training dataset, and we can see how good the model is for the data it has already seen. "
   ]
  },
  {
   "cell_type": "code",
   "execution_count": 10,
   "metadata": {},
   "outputs": [],
   "source": [
    "import numpy as np\n",
    "\n",
    "z = np.dot(train[['x', 'y']], weights) + bias\n",
    "f = logistic(z)\n",
    "prediction = np.array(['nd'] * len(f))\n",
    "prediction[np.where(f > 0.5)] = 'b'\n",
    "prediction[np.where(f <= 0.5)] = 'a'\n",
    "train['prediction'] = prediction"
   ]
  },
  {
   "cell_type": "markdown",
   "metadata": {},
   "source": [
    "This has added a now column to our `DataFrame`. "
   ]
  },
  {
   "cell_type": "code",
   "execution_count": null,
   "metadata": {},
   "outputs": [],
   "source": [
    "train"
   ]
  },
  {
   "cell_type": "markdown",
   "metadata": {},
   "source": [
    "Here, we use the `accuracy_score`, a percentage of how many times the predicted label was correct, to quantify how well the model is doing. "
   ]
  },
  {
   "cell_type": "code",
   "execution_count": null,
   "metadata": {},
   "outputs": [],
   "source": [
    "from sklearn.metrics import accuracy_score\n",
    "\n",
    "accuracy_score(train['label'], train['prediction'])"
   ]
  },
  {
   "cell_type": "markdown",
   "metadata": {},
   "source": [
    "The current model is correct around 90.6 % of the time on the training data. \n",
    "But how does it work for data it has never seen before?"
   ]
  },
  {
   "cell_type": "code",
   "execution_count": null,
   "metadata": {},
   "outputs": [],
   "source": [
    "z = np.dot(test[['x', 'y']], weights) + bias\n",
    "f = logistic(z)\n",
    "prediction = np.array(['x'] * len(f))\n",
    "prediction[np.where(f > 0.5)] = 'b'\n",
    "prediction[np.where(f <= 0.5)] = 'a'\n",
    "test['prediction'] = prediction\n",
    "\n",
    "accuracy_score(test['label'], test['prediction'])"
   ]
  },
  {
   "cell_type": "markdown",
   "metadata": {},
   "source": [
    "Impressively, it is better for the data it has not yet seen. \n",
    "\n",
    "By plotting just the predictions, we can see one of the problems with the logistic regression approach. "
   ]
  },
  {
   "cell_type": "code",
   "execution_count": null,
   "metadata": {},
   "outputs": [],
   "source": [
    "fig, ax = plt.subplots(1, 2, figsize=(10, 4), sharex=True, sharey=True)\n",
    "sns.scatterplot(x='x', y='y', data=train, hue='prediction', ax=ax[0])\n",
    "sns.scatterplot(x='x', y='y', data=test, hue='prediction', ax=ax[1])\n",
    "ax[0].set_title('Training Data')\n",
    "ax[1].set_title('Testing Data')\n",
    "plt.show()"
   ]
  },
  {
   "cell_type": "markdown",
   "metadata": {},
   "source": [
    "It is clear that there is a linear discrimination between the classes `a` and `b`. \n",
    "This means that logistic regression would be potentially ineffective where the classification of the data does not follow a linear trend. \n",
    "Strictly speaking, handling non-linear relationships with logistic regression requires *feature engineering*. \n",
    "This is where the features are adapted to improve linear discrimination between classes. "
   ]
  }
 ],
 "metadata": {
  "kernelspec": {
   "display_name": "special-topics",
   "language": "python",
   "name": "python3"
  },
  "language_info": {
   "codemirror_mode": {
    "name": "ipython",
    "version": 3
   },
   "file_extension": ".py",
   "mimetype": "text/x-python",
   "name": "python",
   "nbconvert_exporter": "python",
   "pygments_lexer": "ipython3",
   "version": "3.11.11"
  }
 },
 "nbformat": 4,
 "nbformat_minor": 2
}
