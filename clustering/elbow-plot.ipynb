{
 "cells": [
  {
   "cell_type": "markdown",
   "metadata": {},
   "source": [
    "# How Many Clusters Do I Have?\n",
    "\n",
    "A common question in clustering methods, particularly those that require a pre-defined number of clusters, is \"how many clusters?\". \n",
    "A few approaches can be taken to answer this; here, we will discuss the elbow plot, but there is also the silhouette plot. \n",
    "For more information about the latter, [`scikit-learn`](https://scikit-learn.org/stable/auto_examples/cluster/plot_kmeans_silhouette_analysis.html) has a nice article discussing them. \n",
    "\n",
    "## *k*-Means Elbow Plot\n",
    "\n",
    "The elbow plot has [previously been discussed](/dim-reduction/pca-interpretation.html#how-many-principal-components-to-investigate) in the context of principal components analysis. \n",
    "However, in PCA, the *y*-axis is the proportion of the explained variance, a parameter that is not necessarily generated from *k*-means or other clustering approaches. \n",
    "Therefore, a different metric is necessary.\n",
    "\n",
    "A popular metric that is used for an elbow plot in clustering is *inertia*, $I$, which is calculated as, \n",
    "\n",
    "$$\n",
    "I = \\sum_{c}\\left(\\sum_{x \\in c}(|x - \\mu_c|^2)\\right),\n",
    "$$\n",
    "\n",
    "i.e., the sum of the squared distances between the samples, $x$, and their closest centres, $\\mu_c$. \n",
    "This metric is calculated using the `sklearn.cluster.KMean` fit method.\n",
    "Let's test this with another simple *fake* blob dataset. "
   ]
  },
  {
   "cell_type": "code",
   "execution_count": null,
   "metadata": {},
   "outputs": [],
   "source": [
    "import matplotlib.pyplot as plt\n",
    "import pandas as pd\n",
    "import seaborn as sns\n",
    "\n",
    "data = pd.read_csv('../data/elbow_blobs.csv')\n",
    "\n",
    "sns.jointplot(x='x1', y='x2', hue='Label', data=data, kind='scatter')\n",
    "plt.show()"
   ]
  },
  {
   "cell_type": "markdown",
   "metadata": {},
   "source": [
    "We can see that there is some clustering of the data.\n",
    "There **should** be four clusters; however, we can see some overlap, so what is the \"ideal\" number of clusters from this dataset? \n",
    "Let's use an elbow plot to investigate this. "
   ]
  },
  {
   "cell_type": "code",
   "execution_count": null,
   "metadata": {},
   "outputs": [],
   "source": [
    "import numpy as np\n",
    "from sklearn.cluster import KMeans\n",
    "\n",
    "inertia = np.zeros(5)\n",
    "for i in range(1, inertia.size+1):\n",
    "    kmeans = KMeans(n_clusters=i, random_state=42)\n",
    "    kmeans.fit(data.drop('Label', axis=1))\n",
    "    inertia[i-1] = kmeans.inertia_\n",
    "\n",
    "fig, ax = plt.subplots()\n",
    "ax.plot(range(1, inertia.size+1), inertia, marker='o')\n",
    "ax.set_xlabel('Number of clusters')\n",
    "ax.set_ylabel('Inertia')\n",
    "plt.show()"
   ]
  },
  {
   "cell_type": "markdown",
   "metadata": {},
   "source": [
    "````{margin}\n",
    "```{note} \n",
    "This example highlights an important concept of the elbow plot. \n",
    "It is purely numerical and knows nothing about the data, which has benefits and drawbacks. \n",
    "In future, we will look at Bayesian methods; these suggest using what we know about the data in our analysis. \n",
    "```\n",
    "````\n",
    "One of the problems with the elbow plot is its interpretation and subjectiveness. \n",
    "Here, the turn of the elbow is probably around two clusters. \n",
    "This makes sense from looking back at the data, which has three clusters grouped close together and another out on its own. \n",
    "So we can understand why we got this result. \n",
    "Even though the data probably has four clusters. "
   ]
  }
 ],
 "metadata": {
  "kernelspec": {
   "display_name": "special-topics",
   "language": "python",
   "name": "python3"
  },
  "language_info": {
   "codemirror_mode": {
    "name": "ipython",
    "version": 3
   },
   "file_extension": ".py",
   "mimetype": "text/x-python",
   "name": "python",
   "nbconvert_exporter": "python",
   "pygments_lexer": "ipython3",
   "version": "3.11.11"
  }
 },
 "nbformat": 4,
 "nbformat_minor": 2
}
