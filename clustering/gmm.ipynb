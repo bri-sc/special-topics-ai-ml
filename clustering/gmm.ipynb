{
 "cells": [
  {
   "cell_type": "markdown",
   "metadata": {},
   "source": [
    "# Gaussian Mixture Models\n",
    "\n",
    "*k*-means clustering suffers from a major problem, because it is calculating the distance between data and the cluster centres, the clusters are necessarily circular/spherical. \n",
    "We can see this in the example below, w"
   ]
  },
  {
   "cell_type": "code",
   "execution_count": null,
   "metadata": {},
   "outputs": [],
   "source": [
    "import numpy as np\n",
    "import pandas as pd\n",
    "import seaborn as sns\n",
    "import matplotlib.pyplot as plt\n",
    "from sklearn import datasets\n",
    "from sklearn.cluster import KMeans\n",
    "\n",
    "n_samples = 200\n",
    "\n",
    "X, y = datasets.make_blobs(n_samples=n_samples, random_state=170)\n",
    "transformation = [[0.6, -0.6], [-0.4, 0.8]]\n",
    "X_aniso = np.dot(X, transformation)\n",
    "data = pd.DataFrame(X_aniso, columns=['x1', 'x2'])\n",
    "\n",
    "kmeans = KMeans(n_clusters=3, random_state=0).fit(data)\n",
    "data['kmeans'] = kmeans.labels_\n",
    "\n",
    "fig, ax = plt.subplots()\n",
    "sns.scatterplot(x='x1', y='x2', hue='kmeans', data=data, ax=ax)\n",
    "plt.show()"
   ]
  },
  {
   "cell_type": "markdown",
   "metadata": {},
   "source": [
    "It is clear, to us, that there are three clusters and what data points are associated with each. \n",
    "However, the Euclidean nature of *k*-means clustering means that the *wrong* clusters are identified.\n",
    "\n",
    "Gaussian mixture models (GMMs) is another clustering method that also follows a expectation-maximisation algorithm. \n",
    "GMMs are able to overcome the linearity issue of *k*-means. \n",
    "Let's see it in action.\n",
    "\n",
    "````{margin}\n",
    "```{note}\n",
    "The `'kmeans'` label is dropped from `data` for running the GMM, so that it does not influence the outcome.\n",
    "```\n",
    "````"
   ]
  },
  {
   "cell_type": "code",
   "execution_count": null,
   "metadata": {},
   "outputs": [],
   "source": [
    "from sklearn.mixture import GaussianMixture\n",
    "\n",
    "gmm_data = data.drop('kmeans', axis=1)\n",
    "gmm = GaussianMixture(n_components=3).fit(gmm_data)\n",
    "data['gmm'] = gmm.predict(gmm_data)\n",
    "\n",
    "fig, ax = plt.subplots()\n",
    "sns.scatterplot(x='x1', y='x2', hue='gmm', data=data, ax=ax)\n",
    "plt.show()"
   ]
  },
  {
   "cell_type": "markdown",
   "metadata": {},
   "source": [
    "Clearly, the Gaussian mixture models approach can capture this skew, which is not possible in *k*-means. \n",
    "We can now have a look at the algorithm to understand *why* this is possible. "
   ]
  }
 ],
 "metadata": {
  "kernelspec": {
   "display_name": "special-topics",
   "language": "python",
   "name": "python3"
  },
  "language_info": {
   "codemirror_mode": {
    "name": "ipython",
    "version": 3
   },
   "file_extension": ".py",
   "mimetype": "text/x-python",
   "name": "python",
   "nbconvert_exporter": "python",
   "pygments_lexer": "ipython3",
   "version": "3.11.11"
  }
 },
 "nbformat": 4,
 "nbformat_minor": 2
}
