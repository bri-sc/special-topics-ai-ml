{
 "cells": [
  {
   "cell_type": "markdown",
   "metadata": {},
   "source": [
    "# *k*-Means Clustering\n",
    "\n",
    "The most straightforward approach to clustering is achieved by creating clusters of particles as close as possible to each other in space. \n",
    "This is essentially what *k*-means clustering does. \n",
    "From a predefined number of clusters, it uses an Expectation-Maximisation (EM) algorithm to find the optimal position of cluster centres that minimises their Euclidian distance to the data points. \n",
    "\n",
    "## Expectation-Maximisation Algorithm\n",
    "\n",
    "The EM algorithm is an iterative optimisation approach popular for finding the best estimates for parameters in statistical models, such as *k*-means. \n",
    "Generally, this algorithm alternates between two stages: \n",
    "1. Expectation: Estimating the model's parameters and comparing these parameters with the observed data.\n",
    "2. Maximisation: Updating the parameters to improve how they describe the observed data. \n",
    "\n",
    "We will see the EM algorithm appear a few times, so it is nice to consider it in the abstract. \n",
    "\n",
    "## *k*-Means In Action\n",
    "\n",
    "Before discussing the *k*-mean algorithm, let's look at what it can do for some of the data transformed into two principal components in [the previous section](/dim-reduction/pca-interpretation.html). "
   ]
  },
  {
   "cell_type": "code",
   "execution_count": null,
   "metadata": {},
   "outputs": [],
   "source": [
    "import pandas as pd\n",
    "from sklearn.preprocessing import StandardScaler\n",
    "from sklearn.decomposition import PCA\n",
    "\n",
    "data = pd.read_csv('./../data/breast-cancer.csv')\n",
    "scaled_data = StandardScaler().fit_transform(data[data.columns[1:]])\n",
    "pca = PCA()\n",
    "transformed = pca.fit_transform(scaled_data)\n",
    "pc = pd.DataFrame(transformed, columns=['PC{}'.format(i + 1) for i in range(transformed.shape[1])])\n",
    "pc['Diagnosis'] = data['Diagnosis']\n",
    "pc[['PC1', 'PC2']].head()"
   ]
  },
  {
   "cell_type": "markdown",
   "metadata": {},
   "source": [
    "As is the case with many of the statistical machine learning approaches, `scikit-learn` has a useful *k*-means implementation. "
   ]
  },
  {
   "cell_type": "code",
   "execution_count": 2,
   "metadata": {},
   "outputs": [],
   "source": [
    "from sklearn.cluster import KMeans\n",
    "\n",
    "kmeans = KMeans(n_clusters=2)\n",
    "kmeans.fit(pc[['PC1', 'PC2']])\n",
    "pc['Cluster'] = kmeans.labels_"
   ]
  },
  {
   "cell_type": "markdown",
   "metadata": {},
   "source": [
    "The `KMeans` class follows the standard process of other `scikit-learn` implementations, with the creation of an object followed by the fitting.\n",
    "We can visualise these results in the same way we used previously, though this time, the colour indicates the selected cluster for each point. "
   ]
  },
  {
   "cell_type": "code",
   "execution_count": null,
   "metadata": {},
   "outputs": [],
   "source": [
    "import matplotlib.pyplot as plt\n",
    "import seaborn as sns\n",
    "\n",
    "sns.jointplot(x='PC1', y='PC2', hue='Cluster', data=pc, kind='scatter')\n",
    "plt.show()"
   ]
  },
  {
   "cell_type": "markdown",
   "metadata": {},
   "source": [
    "To calculate and assess the accuracy of the PCA followed by clustering, to find the true labels of Benign and Malignant, we map the values to 0 and 1, respectively. "
   ]
  },
  {
   "cell_type": "code",
   "execution_count": 6,
   "metadata": {},
   "outputs": [],
   "source": [
    "true_labels = pc['Diagnosis'].map({'Malignant': 1, 'Benign': 0})\n",
    "cluster_labels = pc['Cluster']"
   ]
  },
  {
   "cell_type": "markdown",
   "metadata": {},
   "source": [
    "Using this, a confusion matrix can be plotted. "
   ]
  },
  {
   "cell_type": "code",
   "execution_count": null,
   "metadata": {},
   "outputs": [],
   "source": [
    "from sklearn.metrics import confusion_matrix, ConfusionMatrixDisplay\n",
    "\n",
    "disp = ConfusionMatrixDisplay(confusion_matrix(true_labels, cluster_labels, normalize='true'), \n",
    "                              display_labels=['Malignant', 'Benign'])\n",
    "disp.plot()\n",
    "plt.show()"
   ]
  },
  {
   "cell_type": "markdown",
   "metadata": {},
   "source": [
    "We see that this approach produces a false negative (when the tumour was predicted to be benign but was actually malignent) rate of 1.4%. \n",
    "However, it also had a false positive rate of over 20 %, meaning over 20% of benign tumours were misidentified as malignent.\n",
    "This approach is unlikely to be acceptable for real world use, other then perhaps as an early screening tool to flag for additional testing. \n",
    "\n",
    "Another scoring method that can be used is an accuracy score. "
   ]
  },
  {
   "cell_type": "code",
   "execution_count": null,
   "metadata": {},
   "outputs": [],
   "source": [
    "from sklearn.metrics import accuracy_score\n",
    "\n",
    "accuracy_score(true_labels, cluster_labels)"
   ]
  },
  {
   "cell_type": "markdown",
   "metadata": {},
   "source": [
    "This tells us that the accuracy, which is the ratio of correct predictions to total predictions, is 90 %. \n",
    "\n",
    "As we work through the material, we will look at other metrics for scoring machine learning classification algorithms.\n",
    "But now, let's look at the *k*-means algorithm. "
   ]
  }
 ],
 "metadata": {
  "kernelspec": {
   "display_name": "base",
   "language": "python",
   "name": "python3"
  },
  "language_info": {
   "codemirror_mode": {
    "name": "ipython",
    "version": 3
   },
   "file_extension": ".py",
   "mimetype": "text/x-python",
   "name": "python",
   "nbconvert_exporter": "python",
   "pygments_lexer": "ipython3",
   "version": "3.12.2"
  }
 },
 "nbformat": 4,
 "nbformat_minor": 2
}
