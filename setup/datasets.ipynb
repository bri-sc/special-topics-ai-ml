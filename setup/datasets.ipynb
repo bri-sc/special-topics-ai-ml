{
 "cells": [
  {
   "cell_type": "markdown",
   "metadata": {},
   "source": [
    "# Datasets \n",
    "\n",
    "Let's look at the openly available datasets we will use in detail. \n",
    "Many of these will be used for both unsupervised and supervised approaches. \n",
    "\n",
    "````{margin}\n",
    "```{note}\n",
    "An [abalone](https://en.wikipedia.org/wiki/Abalone) is a marine mollusc commonly eaten by humans. \n",
    "```\n",
    "````\n",
    "## Abalone Dataset\n",
    "\n",
    "This data was sourced from the [UC Irvine Machine Learning Repository](https://archive.ics.uci.edu/dataset/1/abalone). \n",
    "The file has been modified to include the names of the features and can be downloaded [here](./../data/abalone.csv).\n",
    "\n",
    "Let's have a look at this dataset. "
   ]
  },
  {
   "cell_type": "code",
   "execution_count": null,
   "metadata": {},
   "outputs": [],
   "source": [
    "import pandas as pd\n",
    "\n",
    "data = pd.read_csv('./../data/abalone.csv')\n",
    "data"
   ]
  },
  {
   "cell_type": "markdown",
   "metadata": {},
   "source": [
    "We can see that the data has 4177 entries, each with nine features.\n",
    "These nine features describe the size of the abalone samples (length, diameter, weight, etc.) and the number of rings in their shells. \n",
    "This final feature is a descriptor of the age of the abalone.\n",
    "The number of rings is not straightforward to measure, so estimating the age from these other parameters is desirable. \n",
    "\n",
    "Before we continue, we must check for any missing data.\n",
    "Missing data would typically be stored as a null value. "
   ]
  },
  {
   "cell_type": "code",
   "execution_count": null,
   "metadata": {},
   "outputs": [],
   "source": [
    "pd.isnull(data).sum()"
   ]
  },
  {
   "cell_type": "markdown",
   "metadata": {},
   "source": [
    "We can see no features with missing data (i.e., no null values). \n",
    "If null values were present, depending on the algorithm being used, it may be necessary to remove these data points. \n",
    "\n",
    "In addition to checking for missing data, we should also consider the nature of some of the data present. \n",
    "For example, the `sex` data is not numerical, either male or female.\n",
    "This data is referred to as **categorical**, as it has categories. \n",
    "Similar to missing data, this may not be compatible with the algorithms we apply. \n",
    "\n",
    "## Breast Cancer\n",
    "\n",
    "Another dataset that we will look at is the Wisconson Breast Cancer dataset, also sourced from the [UC Irvine Machine Learning Repository](https://archive.ics.uci.edu/dataset/17/breast+cancer+wisconsin+diagnostic). \n",
    "This dataset contains information about the size, shape, and texture of breast cancer tumours and has been tagged with information about whether the tumour was found to be benign (not harmful in effect) or malignant (harmful). \n",
    "This dataset has been reduced to suit the pedagogical purposes of this work more and can be downloaded [here](./../data/breast-cancer.csv). \n",
    "Let's look at the dataset. "
   ]
  },
  {
   "cell_type": "code",
   "execution_count": null,
   "metadata": {},
   "outputs": [],
   "source": [
    "data = pd.read_csv('./../data/breast-cancer.csv')\n",
    "data"
   ]
  },
  {
   "cell_type": "markdown",
   "metadata": {},
   "source": [
    "Similar to the abalone dataset, the null values have been stripped from the data. "
   ]
  },
  {
   "cell_type": "code",
   "execution_count": null,
   "metadata": {},
   "outputs": [],
   "source": [
    "pd.isnull(data).sum()"
   ]
  },
  {
   "cell_type": "markdown",
   "metadata": {},
   "source": [
    "## Handwritten Digits Dataset\n",
    "\n",
    "A popular dataset for looking at machine learning algorithms is the MNIST handwritten digits dataset. \n",
    "This data contains a series of images of digits that have been handwritten. \n",
    "Let's load the data in and have a look at the structure. "
   ]
  },
  {
   "cell_type": "code",
   "execution_count": null,
   "metadata": {},
   "outputs": [],
   "source": [
    "data = pd.read_csv('./../data/mnist.csv')\n",
    "\n",
    "data"
   ]
  },
  {
   "cell_type": "markdown",
   "metadata": {},
   "source": [
    "We can see that this dataset has an integer value for each of the 784 pixels and a label, where the label indicates the actual value of the digits that have been written. \n",
    "We can visualise some of the images by reshaping the data appropriately. "
   ]
  },
  {
   "cell_type": "code",
   "execution_count": null,
   "metadata": {},
   "outputs": [],
   "source": [
    "import matplotlib.pyplot as plt\n",
    "from skimage.util import montage\n",
    "\n",
    "fig, ax = plt.subplots(1, 1, figsize=(6, 6))\n",
    "\n",
    "ax.imshow(montage(data[[f'pixel{i+1}' for i in range(784)]].loc[:15].values.reshape(16, 28, 28)))\n",
    "ax.set_aspect('equal')\n",
    "plt.show()"
   ]
  },
  {
   "cell_type": "markdown",
   "metadata": {},
   "source": [
    "This is a large dataset with many features against which we can train or use algorithms. "
   ]
  }
 ],
 "metadata": {
  "kernelspec": {
   "display_name": "special-topics",
   "language": "python",
   "name": "python3"
  },
  "language_info": {
   "codemirror_mode": {
    "name": "ipython",
    "version": 3
   },
   "file_extension": ".py",
   "mimetype": "text/x-python",
   "name": "python",
   "nbconvert_exporter": "python",
   "pygments_lexer": "ipython3",
   "version": "3.11.11"
  }
 },
 "nbformat": 4,
 "nbformat_minor": 2
}
