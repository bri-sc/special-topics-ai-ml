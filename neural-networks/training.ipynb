{
 "cells": [
  {
   "cell_type": "markdown",
   "metadata": {},
   "source": [
    "# Training\n",
    "\n",
    "Training is a familiar concept across machine learning methods. \n",
    "Our training aims to teach our model about the data we have shown so that it can predict outcomes that it has not seen yet. \n",
    "Here, we will look at training a simple XOR operation multilayer perceptron. \n",
    "\n",
    "```{admonition} Pavlov's Dog\n",
    ":class: tip\n",
    "We can use the famous experiment of Pavlov's dog to explain the training process. \n",
    "Every time Pavlov rang a bell, he would give his dog a treat.\n",
    "Over time, the dog began to associate the bell with the treat, and therefore, he would salivate when he heard the bell. \n",
    "This *training* leads to changes in the processing in the cell body of the dog's biological neurons and is directly analogous to the training we will perform on the artificial neural network. \n",
    "```\n",
    "\n",
    "## Backpropagation\n",
    "\n",
    "A popular training algorithm for neural networks is known as *backpropagation*. \n",
    "Let's look at using this to train the XOR operation above. \n",
    "Above, we have three layers, i.e., $M=3$, where the output layer is the *M*th-layer and $y_{\\textrm{pred},i}$ will be the final prediction. \n",
    "We define some *loss function* that we will use in the optimisation. \n",
    "Here we use the mean-squared error (MSE),\n",
    "\n",
    "$$\n",
    "\\epsilon = \\frac{1}{N} \\sum_{i=1}^{N} (y_{\\textrm{pred},i} - y_i)^2,\n",
    "$$\n",
    "\n",
    "where $N$ is the number of outputs (for the XOR, this is 1), and $y_i$ is the true value (from our truth table).\n",
    "We implement this with `jax` for reasons that will become clear."
   ]
  },
  {
   "cell_type": "code",
   "execution_count": null,
   "metadata": {},
   "outputs": [],
   "source": [
    "import jax.numpy as jnp \n",
    "\n",
    "def mse(y, y_pred):\n",
    "    \"\"\"\n",
    "    Mean Squared Error\n",
    "    \n",
    "    :param y: actual values\n",
    "    :param y_pred: predicted values\n",
    "\n",
    "    :return: mean squared error\n",
    "    \"\"\"\n",
    "    return jnp.mean(jnp.square(y - y_pred))"
   ]
  },
  {
   "cell_type": "markdown",
   "metadata": {},
   "source": [
    "````{margin}\n",
    "```{note}\n",
    "From previous sections, we should be familiar with the [logistic function](../classification/logistic-regression.ipynb). \n",
    "```\n",
    "````\n",
    "For an activation function, instead of using a Heaviside function, we will use the more advanced (and differentiable) logistic function. "
   ]
  },
  {
   "cell_type": "code",
   "execution_count": null,
   "metadata": {},
   "outputs": [],
   "source": [
    "def logistic(z):\n",
    "    \"\"\"\n",
    "    Compute the logistic function\n",
    "    :param z: input\n",
    "    \n",
    "    :return: output of the logistic function\n",
    "    \"\"\"\n",
    "    return 1 / (1 + jnp.exp(-z))"
   ]
  },
  {
   "cell_type": "markdown",
   "metadata": {},
   "source": [
    "The backpropagation process involves using the [gradient descent](../maths/optimisation.ipynb) algorithm we met previously and propagating this error through the layers. \n",
    "We can write the forward propagation as follows."
   ]
  },
  {
   "cell_type": "code",
   "execution_count": null,
   "metadata": {},
   "outputs": [],
   "source": [
    "def forward_propagation(layer_one_weights, layer_one_biases, \n",
    "                        layer_two_weights, layer_two_biases, input):\n",
    "    \"\"\"\n",
    "    The forward pass of the neural network\n",
    "    \n",
    "    :param input: input data\n",
    "    :param layer_one_weights: weights of the first layer\n",
    "    :param layer_one_biases: biases of the first layer\n",
    "    :param layer_two_weights: weights of the second layer\n",
    "    :param layer_two_biases: biases of the second layer\n",
    "    \n",
    "    :return: predicted values\n",
    "    \"\"\"\n",
    "    h = logistic(jnp.dot(input, layer_one_weights) + layer_one_biases)\n",
    "    y_pred = logistic(jnp.dot(h, layer_two_weights) + layer_two_biases)\n",
    "    return y_pred"
   ]
  },
  {
   "cell_type": "markdown",
   "metadata": {},
   "source": [
    "We want to compute the gradient of the loss function from the predictions of the forward pass concerning each of the weights and biases. \n",
    "Four objects must be optimised, so we include these as `argnums` in the `grad` call. "
   ]
  },
  {
   "cell_type": "code",
   "execution_count": null,
   "metadata": {},
   "outputs": [],
   "source": [
    "from jax import grad\n",
    "\n",
    "def to_optimise(layer_one_weights, layer_one_biases, layer_two_weights, layer_two_biases, input, y):\n",
    "    \"\"\"\n",
    "    The function to be optimised. \n",
    "\n",
    "    :param same as forward_propagation:\n",
    "    \n",
    "    :return: the mean squared error\n",
    "    \"\"\"\n",
    "    y_pred = forward_propagation(layer_one_weights, layer_one_biases, \n",
    "                        layer_two_weights, layer_two_biases, input)\n",
    "    return mse(y, y_pred)\n",
    "\n",
    "grad_fn = grad(to_optimise, argnums=(0, 1, 2, 3))"
   ]
  },
  {
   "cell_type": "markdown",
   "metadata": {},
   "source": [
    "We can start with randomly initialised weights and biases."
   ]
  },
  {
   "cell_type": "code",
   "execution_count": null,
   "metadata": {},
   "outputs": [],
   "source": [
    "import jax.random as random\n",
    "\n",
    "key = random.PRNGKey(0)\n",
    "key1, key2 = random.split(key)\n",
    "W1 = random.normal(key1, (2, 2))  \n",
    "b1 = jnp.zeros((2,))\n",
    "W2 = random.normal(key2, (2, 1)) \n",
    "b2 = jnp.zeros((1,))"
   ]
  },
  {
   "cell_type": "markdown",
   "metadata": {},
   "source": [
    "From the [truth table](./perceptron.ipynb) for the XOR operation, we can get the following *true* inputs and outputs. "
   ]
  },
  {
   "cell_type": "code",
   "execution_count": null,
   "metadata": {},
   "outputs": [],
   "source": [
    "x = jnp.array([[0, 0],\n",
    "              [0, 1],\n",
    "              [1, 0],\n",
    "              [1, 1]])\n",
    "\n",
    "y = jnp.array([[0], \n",
    "               [1], \n",
    "               [1], \n",
    "               [0]])"
   ]
  },
  {
   "cell_type": "markdown",
   "metadata": {},
   "source": [
    "Finally, we can run the gradient descent algorithm with a learning rate of 0.5 for 5000 *epochs*. \n",
    "In optimisation, we would call these epochs iterations. "
   ]
  },
  {
   "cell_type": "code",
   "execution_count": null,
   "metadata": {},
   "outputs": [],
   "source": [
    "learning_rate = 0.5\n",
    "for epoch in range(5000):\n",
    "    grads = grad_fn(W1, b1, W2, b2, x, y)\n",
    "    W1 -= learning_rate * grads[0]\n",
    "    b1 -= learning_rate * grads[1]\n",
    "    W2 -= learning_rate * grads[2]\n",
    "    b2 -= learning_rate * grads[3]"
   ]
  },
  {
   "cell_type": "markdown",
   "metadata": {},
   "source": [
    "After 5000 epochs, does our analysis work?"
   ]
  },
  {
   "cell_type": "code",
   "execution_count": null,
   "metadata": {},
   "outputs": [],
   "source": [
    "y_pred = forward_propagation(W1, b1, W2, b2, x)\n",
    "print(\"Predictions:\\n\", y_pred)"
   ]
  },
  {
   "cell_type": "markdown",
   "metadata": {},
   "source": [
    "If we round these predictions, we can see that the results match the truth table. \n",
    "This indicates that we have successfully trained the neural network. \n",
    "Let's have a look at the weights and biases that were trained. "
   ]
  },
  {
   "cell_type": "code",
   "execution_count": null,
   "metadata": {},
   "outputs": [],
   "source": [
    "W1, b1, W2, b2"
   ]
  },
  {
   "cell_type": "markdown",
   "metadata": {},
   "source": [
    "It is important to highlight that this problem is not degenerate in that there is more than one solution for this multilayer perceptron that will solve the XOR operation. "
   ]
  }
 ],
 "metadata": {
  "kernelspec": {
   "display_name": "special-topics",
   "language": "python",
   "name": "python3"
  },
  "language_info": {
   "codemirror_mode": {
    "name": "ipython",
    "version": 3
   },
   "file_extension": ".py",
   "mimetype": "text/x-python",
   "name": "python",
   "nbconvert_exporter": "python",
   "pygments_lexer": "ipython3",
   "version": "3.11.11"
  }
 },
 "nbformat": 4,
 "nbformat_minor": 2
}
