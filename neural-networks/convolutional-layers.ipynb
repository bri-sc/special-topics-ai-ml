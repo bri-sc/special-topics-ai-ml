{
 "cells": [
  {
   "cell_type": "markdown",
   "metadata": {},
   "source": [
    "# Convolutional Layers\n",
    "\n",
    "The convolutional layers involve convolving the data with some filter or kernel.\n",
    "This helps to identify spatial features, like edges or textures in images. \n",
    "The concept of convolving data with some kernel may be unfamiliar, so let's discuss this mathematical operation. \n",
    "\n",
    "## Convolve\n",
    "\n",
    "The convolution of two functions, $f$ and $g$, is written as $f * g$. \n",
    "Strictly, this operation is the integral of the product of the two functions after one is reflected about the *y*-axis and shifted. \n",
    "Graphically, the convolution leads to the shape of one function becoming modified by another. \n",
    "Mathematically, a convolution is written as, \n",
    "\n",
    "````{margin}\n",
    "````{note}\n",
    "The *walrus* operator ($:=$) might be unfamiliar; this indicates that something is defined as.\n",
    "```\n",
    "````\n",
    "$$\n",
    "(f * g)(t) := \\int_{-\\infty}^{\\infty} f(\\tau)g(t-\\tau)\\;\\textrm{d}\\tau,\n",
    "$$\n",
    "\n",
    "where, $\\tau$ is the shift. \n",
    "Note that convolution is [communtative](https://en.wikipedia.org/wiki/Commutative_property), so $f * g = g * f$. \n",
    "\n",
    "\n",
    "Let's have a look at the convolution of two one-dimensional functions. "
   ]
  },
  {
   "cell_type": "code",
   "execution_count": null,
   "metadata": {},
   "outputs": [],
   "source": [
    "import numpy as np\n",
    "import matplotlib.pyplot as plt\n",
    "from scipy.stats import norm, uniform\n",
    "\n",
    "x = np.linspace(-10, 10, 1000)\n",
    "n = norm.pdf(x)\n",
    "u =  uniform.pdf(x, loc=-3, scale=6)\n",
    "\n",
    "fig, ax = plt.subplots()\n",
    "ax.plot(x, n, label='f(x)')\n",
    "ax.plot(x, u, label='g(x)')\n",
    "ax.plot(x, np.convolve(n, u, mode='same') / 20, label='f(x) * g(x) / 20')\n",
    "ax.set_ylim(0, None)\n",
    "ax.set_xlabel('x')\n",
    "ax.legend()\n",
    "plt.show()"
   ]
  },
  {
   "cell_type": "markdown",
   "metadata": {},
   "source": [
    "Above, we convolve the standard normal distribution with a uniform distribution to produce a new distribution with the character of both. \n",
    "Note that the `mode` is set to `'same'`, such that the output is on the same scale as the maximum from the inputs. \n",
    "The way that a convolution works can be seen in the following animation. \n",
    "\n",
    "```{figure} ../images/convolve.gif\n",
    "---\n",
    "name: convolve\n",
    "height: 150px\n",
    "---\n",
    "A gif showing the process of convolving a uniform distribution with an impulse response. [Reproduced under a CC BY-SA 3.0 license](https://commons.wikimedia.org/wiki/File:Convolution_of_spiky_function_with_box2.gif).\n",
    "```\n",
    "\n",
    "The convolution is closely related to the [cross-correlation](), with the only difference being that the cross-correlation function does not reflect either function in the *y*-axis. \n",
    "\n",
    "## Image Convolution\n",
    "\n",
    "Convolutional neural networks are commonly applied to image classification problems. \n",
    "This means that the convolutions are being applied over the two dimensions of the image. \n",
    "Let's see the result of one such convolutional filter on an image of a very cute dog. "
   ]
  },
  {
   "cell_type": "code",
   "execution_count": null,
   "metadata": {},
   "outputs": [],
   "source": [
    "pepe = np.loadtxt('../data/pepe.txt')\n",
    "\n",
    "fig, ax = plt.subplots()\n",
    "\n",
    "ax.imshow(pepe, cmap='gray')\n",
    "ax.axis('off')\n",
    "plt.show()"
   ]
  },
  {
   "cell_type": "markdown",
   "metadata": {},
   "source": [
    "For this, we will apply a Gaussian filter with *x* and *y* means of 0 and the following covariance matrix. "
   ]
  },
  {
   "cell_type": "code",
   "execution_count": null,
   "metadata": {},
   "outputs": [],
   "source": [
    "means = [0, 0]\n",
    "cov = [[1, 0.5], [0.5, 1]]"
   ]
  },
  {
   "cell_type": "markdown",
   "metadata": {},
   "source": [
    "We will construct the Gaussian filter using the `scipy.stats.multivariate_normal` object. "
   ]
  },
  {
   "cell_type": "code",
   "execution_count": null,
   "metadata": {},
   "outputs": [],
   "source": [
    "from scipy.stats import multivariate_normal\n",
    "\n",
    "mv = multivariate_normal(means, cov)"
   ]
  },
  {
   "cell_type": "markdown",
   "metadata": {},
   "source": [
    "And visiualise this distribution with a contour plot. "
   ]
  },
  {
   "cell_type": "code",
   "execution_count": null,
   "metadata": {},
   "outputs": [],
   "source": [
    "x, y = np.mgrid[-3:3:.01, -3:3:.01]\n",
    "\n",
    "fig, ax = plt.subplots()\n",
    "\n",
    "ax.contourf(mv.pdf(np.dstack((x, y))), extent=(-3, 3, -3, 3))\n",
    "ax.set_aspect('equal')\n",
    "ax.set_xlabel('x')\n",
    "ax.set_ylabel('y')\n",
    "plt.show()"
   ]
  },
  {
   "cell_type": "markdown",
   "metadata": {},
   "source": [
    "Above, we have used a very fine grid over which the PDF has been computed. \n",
    "However, in the convolution context, the convolutional kernel's size is also important. \n",
    "Here, we will use a 30&times;30 convolutional filter to show the effect. "
   ]
  },
  {
   "cell_type": "code",
   "execution_count": null,
   "metadata": {},
   "outputs": [],
   "source": [
    "kernel = mv.pdf(np.dstack(np.mgrid[-3:3:.2, -3:3:.2]))\n",
    "kernel.shape"
   ]
  },
  {
   "cell_type": "markdown",
   "metadata": {},
   "source": [
    "To perform this convolution, we use the `scipy.signal.convolve2d` function, again with the `mode` as `'same'`. "
   ]
  },
  {
   "cell_type": "code",
   "execution_count": null,
   "metadata": {},
   "outputs": [],
   "source": [
    "from scipy.signal import convolve2d\n",
    "\n",
    "pepe_convolved = convolve2d(pepe, kernel, mode='same')\n",
    "\n",
    "fig, ax = plt.subplots(1, 2, figsize=(10, 5))\n",
    "\n",
    "ax[0].imshow(pepe, cmap='gray')\n",
    "ax[1].imshow(pepe_convolved, cmap='gray')\n",
    "ax[0].axis('off')\n",
    "ax[1].axis('off')\n",
    "ax[0].set_title('Original')\n",
    "ax[1].set_title('Convolved')\n",
    "plt.show()"
   ]
  },
  {
   "cell_type": "markdown",
   "metadata": {},
   "source": [
    "From passing the convolutional filter over the image, we get a more smeared-out version of the image.\n",
    "This is known as a Gaussian blur kernel. \n",
    "This is not the only type of filter that exists. Indeed, different filters serve different purposes in image classification. \n",
    "For example, the [Prewitt](https://en.wikipedia.org/wiki/Prewitt_operator) and [Sobel](https://en.wikipedia.org/wiki/Sobel_operator) filters are popular for edge detection. \n",
    "\n",
    "## Changing Filters\n",
    "\n",
    "During the training of a neural network, the filters are among the trained parameters. \n",
    "This means that the analysis of the filters in a network can be informative about the trends being discovered. \n",
    "By investigating the filters trained in the network, we can begin to understand what *the network has learnt*. "
   ]
  }
 ],
 "metadata": {
  "kernelspec": {
   "display_name": "special-topics",
   "language": "python",
   "name": "python3"
  },
  "language_info": {
   "codemirror_mode": {
    "name": "ipython",
    "version": 3
   },
   "file_extension": ".py",
   "mimetype": "text/x-python",
   "name": "python",
   "nbconvert_exporter": "python",
   "pygments_lexer": "ipython3",
   "version": "3.11.11"
  }
 },
 "nbformat": 4,
 "nbformat_minor": 2
}
