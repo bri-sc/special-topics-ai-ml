{
 "cells": [
  {
   "cell_type": "markdown",
   "metadata": {},
   "source": [
    "# Pooling\n",
    "\n",
    "The images that we work with are often very high in resolution.\n",
    " However, this can introduce a problem for convolutional neural networks as there is a need for large convolutional filters with many parameters. \n",
    "To reduce both computational load and the number of parameters, *pooling* is often used. \n",
    "This reduces the size of the feature maps (the images) while preserving the most important features. \n",
    "As well as helping with the computational cost of training, the use of pooling can also make the network more robust to overfitting by removing unnecessary details and making the network more robust to small changes in the image, so-called shift-invariant. \n",
    "\n",
    "## How Does Pooling Work?\n",
    "\n",
    "Pooling works by sliding a window of some given size over the data and extracting a single value for each part. \n",
    "For example, consider the following 3&times;3 matrix,\n",
    "\n",
    "$$\n",
    "\\begin{bmatrix} \n",
    "3 & 4 & 1 \\\\ \n",
    "1 & 2 & 9 \\\\\n",
    "4 & 2 & 3 \n",
    "\\end{bmatrix}.\n",
    "$$\n",
    "\n",
    "If we pass a 2\\times;2 window over this, the first set of values would be those shown in bold below, \n",
    "\n",
    "$$\n",
    "\\begin{bmatrix} \n",
    "\\mathbf{3} & \\mathbf{4} & 1 \\\\ \n",
    "\\mathbf{1} & \\mathbf{2} & 9 \\\\\n",
    "4 & 2 & 3 \n",
    "\\end{bmatrix}.\n",
    "$$\n",
    "\n",
    "Then, what is the reduction method for the pooling? \n",
    "The most popular pooling is probably maximum pooling, where the maximum value is extracted, but other approaches exist, such as mean pooling. \n",
    "In maximum pooling, once the maximum value in the window is found, it is slid right and down as appropriate. \n",
    "The result for the above matrix with maximum pooling would be, \n",
    "\n",
    "$$\n",
    "\\begin{bmatrix}\n",
    "4 & 9 \\\\ \n",
    "4 & 9\n",
    "\\end{bmatrix}.\n",
    "$$\n",
    "\n",
    "## Implementation in Python\n",
    "\n",
    "The implementation of a maximum pooling in Python is shown below. "
   ]
  },
  {
   "cell_type": "code",
   "execution_count": null,
   "metadata": {},
   "outputs": [],
   "source": [
    "import numpy as np\n",
    "\n",
    "def max_pooling(feature_map, size=1, stride=1):\n",
    "    h, w = feature_map.shape\n",
    "    pooled_height = h // stride\n",
    "    pooled_width = w // stride\n",
    "    pooled = np.zeros((pooled_height, pooled_width))\n",
    "\n",
    "    for i in range(0, h, stride):\n",
    "        for j in range(0, w, stride):\n",
    "            pooled[i // stride, j // stride] = np.max(feature_map[i:i+size, j:j+size])\n",
    "\n",
    "    return pooled"
   ]
  },
  {
   "cell_type": "markdown",
   "metadata": {},
   "source": [
    "We can apply this to the cute dog image from earlier. "
   ]
  },
  {
   "cell_type": "code",
   "execution_count": null,
   "metadata": {},
   "outputs": [],
   "source": [
    "import matplotlib.pyplot as plt\n",
    "\n",
    "pepe = np.loadtxt('../data/pepe.txt')\n",
    "pepe_pooled = max_pooling(pepe, size=20)\n",
    "\n",
    "fig, ax = plt.subplots(1, 2, figsize=(10, 5))\n",
    "\n",
    "ax[0].imshow(pepe, cmap='gray')\n",
    "ax[1].imshow(pepe_pooled, cmap='gray')\n",
    "ax[0].axis('off')\n",
    "ax[1].axis('off')\n",
    "ax[0].set_title('Original')\n",
    "ax[1].set_title('Maximum Pooling')\n",
    "plt.show()"
   ]
  },
  {
   "cell_type": "markdown",
   "metadata": {},
   "source": [
    "We can see that a lot of the fine detail is lost with the maximum pooling approach; the image appears to become *pixelated*. "
   ]
  }
 ],
 "metadata": {
  "kernelspec": {
   "display_name": "special-topics",
   "language": "python",
   "name": "python3"
  },
  "language_info": {
   "codemirror_mode": {
    "name": "ipython",
    "version": 3
   },
   "file_extension": ".py",
   "mimetype": "text/x-python",
   "name": "python",
   "nbconvert_exporter": "python",
   "pygments_lexer": "ipython3",
   "version": "3.11.11"
  }
 },
 "nbformat": 4,
 "nbformat_minor": 2
}
