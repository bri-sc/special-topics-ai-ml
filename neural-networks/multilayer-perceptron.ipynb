{
 "cells": [
  {
   "cell_type": "markdown",
   "metadata": {},
   "source": [
    "# Multilayer Perceptron\n",
    "\n",
    "It was highlighted previously that the perceptron (the base unit for the artificial neural networks), capable of some simple logic, cannot implement an exclusive OR operation. \n",
    "This led to a significant decrease in excitement about artificial intelligence. \n",
    "However, the XOR operation can be performed with the inclusion of just a single hidden layer. \n",
    "We can see a diagram of this simple artificial neural network in Fig. {numref}`multilayer`. \n",
    "\n",
    "```{figure} ../images/multilayer.png\n",
    "---\n",
    "name: multilayer\n",
    "height: 350px\n",
    "---\n",
    "A pictorial description of a multilayer perceptron, where the activation function, $H$, is the Heaviside function and the transfer function is a summation, $\\Sigma$, for all nodes. \n",
    "```\n",
    "\n",
    "In Fig. {numref}`multilayer`, the hidden layer is *fully connected*, meaning all the nodes are connected to all the inputs. \n",
    "This is probably the most straightforward artificial neural network, so let's write some simple Python code to implement it. \n",
    "We will start with defining the Heaviside function again. "
   ]
  },
  {
   "cell_type": "code",
   "execution_count": null,
   "metadata": {},
   "outputs": [],
   "source": [
    "import numpy as np\n",
    "\n",
    "def heaviside(x):\n",
    "    \"\"\"\n",
    "    Heaviside step function.\n",
    "    \n",
    "    :param x: input value\n",
    "    \n",
    "    :return: 1 if x >= 0, 0 otherwise\n",
    "    \"\"\"\n",
    "    return np.where(x < 0, 0, 1)"
   ]
  },
  {
   "cell_type": "markdown",
   "metadata": {},
   "source": [
    "The network above takes two inputs, $\\mathbf{x} = \\begin{bmatrix} x_1 \\\\ x_2 \\end{bmatrix}$, which we will define below."
   ]
  },
  {
   "cell_type": "code",
   "execution_count": null,
   "metadata": {},
   "outputs": [],
   "source": [
    "x = np.array([[0, 0],\n",
    "              [0, 1],\n",
    "              [1, 0],\n",
    "              [1, 1]])\n",
    "x"
   ]
  },
  {
   "cell_type": "markdown",
   "metadata": {},
   "source": [
    "Now, we will define the weights and bias between our input and hidden layer. \n",
    "For the weights, we will define this as a 2&times;2 matrix.\n",
    "Here, we will define these with random values. "
   ]
  },
  {
   "cell_type": "code",
   "execution_count": null,
   "metadata": {},
   "outputs": [],
   "source": [
    "rng = np.random.RandomState(42)\n",
    "layer_one_weights = rng.randn(2, 2)\n",
    "layer_one_biases = rng.randn(2) \n",
    "layer_one_weights, layer_one_biases"
   ]
  },
  {
   "cell_type": "markdown",
   "metadata": {},
   "source": [
    "The transfer function is a summation so that we can perform the matrix multiplication of the inputs and the weights with a dot product. \n",
    "And, again, the activation function is a Heaviside function. "
   ]
  },
  {
   "cell_type": "code",
   "execution_count": null,
   "metadata": {},
   "outputs": [],
   "source": [
    "layer_one_outputs = heaviside(np.dot(x, layer_one_weights) + layer_one_biases)\n",
    "layer_one_outputs"
   ]
  },
  {
   "cell_type": "markdown",
   "metadata": {},
   "source": [
    "These outputs are then fed from the hidden layer to the output layer. \n",
    "There are only two weights and one bias this time, but we will initialise these randomly again. "
   ]
  },
  {
   "cell_type": "code",
   "execution_count": null,
   "metadata": {},
   "outputs": [],
   "source": [
    "layer_two_weights = rng.randn(2, 1)\n",
    "layer_two_biases = rng.randn(1)\n",
    "output = heaviside(np.dot(layer_one_outputs, layer_two_weights) + layer_two_biases)\n",
    "output"
   ]
  },
  {
   "cell_type": "markdown",
   "metadata": {},
   "source": [
    "The first, second, and third results match the trust table. \n",
    "However, the final does not. \n",
    "Therefore, we must optimise the weights and biases. \n",
    "In machine learning parlance, we would call this *training*, but the logic is similar to optimisation, even if the approaches are not always the same. \n",
    "\n",
    "Let's look at how artificial neural networks are trained. "
   ]
  }
 ],
 "metadata": {
  "kernelspec": {
   "display_name": "special-topics",
   "language": "python",
   "name": "python3"
  },
  "language_info": {
   "codemirror_mode": {
    "name": "ipython",
    "version": 3
   },
   "file_extension": ".py",
   "mimetype": "text/x-python",
   "name": "python",
   "nbconvert_exporter": "python",
   "pygments_lexer": "ipython3",
   "version": "3.11.11"
  }
 },
 "nbformat": 4,
 "nbformat_minor": 2
}
