{
 "cells": [
  {
   "cell_type": "markdown",
   "metadata": {},
   "source": [
    "# Autodifferentiation\n",
    "\n",
    "Autodifferentiation aims to efficiently and accurately calculate the derivative of a function. \n",
    "Automatic differentiation is a computational technique with extremely valuable applications in optimisation and machine learning. \n",
    "For example, in the context of neural networks, autodifferentiation enables backpropagation by computing gradients of loss functions (we will look at this in detail later). \n",
    "\n",
    "Autodifferentiation is distinct from the symbolic differentiation, which we saw earlier with `sympy` and numerical differentiation. \n",
    "These both present difficulties in performing computationally, with the former requiring a mathematical expression to be converted to a computer program, which can be inefficient, and the latter suffering from round-off errors. \n",
    "These problems become worse as higher-order derivatives are found. \n",
    "The only aim of autodifferentiation, unlike symbolic differentiation, is to obtain a numerical value for the derivative of the function.\n",
    "\n",
    "```{admonition} Further Reading\n",
    ":class: tip\n",
    "If you want to learn about the *rather complex* mathematics that enables autodifferentiation, this video is an interesting place to start. \n",
    "<center>\n",
    "<iframe width=\"560\" height=\"315\" src=\"https://www.youtube.com/embed/wG_nF1awSSY?si=6SMTBThYRd9lFEaT\" title=\"YouTube video player\" frameborder=\"0\" allow=\"accelerometer; autoplay; clipboard-write; encrypted-media; gyroscope; picture-in-picture; web-share\" referrerpolicy=\"strict-origin-when-cross-origin\" allowfullscreen></iframe>\n",
    "</center>\n",
    "```\n",
    "\n",
    "Autodifferentiation benefits from the fact that it is exact to machine precision and highly efficient, though complex to implement. \n",
    "However, recently, a range of exciting Python packages have enabled its implementation. \n",
    "For example, [JAX](https://jax.readthedocs.io/en/latest/) is a high-performance array computing library (a bit like a fancier NumPy) that can perform autodifferentiation of functions. \n",
    "\n",
    "## JAX for Autodifferentiation\n",
    "\n",
    "The JAX library is constructed in a similar fashion to NumPy. \n",
    "Therefore, we can construct the same example as shown previously. "
   ]
  },
  {
   "cell_type": "code",
   "execution_count": null,
   "metadata": {},
   "outputs": [],
   "source": [
    "import jax.numpy as jnp\n",
    "from jax import grad\n",
    "\n",
    "grad_square = grad(jnp.square)\n",
    "grad_square(0.5)"
   ]
  },
  {
   "cell_type": "markdown",
   "metadata": {},
   "source": [
    "We observed previously that the gradient of $x^2$ would be $2x$, and we can see that JAX can reproduce that result. \n",
    "\n",
    "You will notice that the input to the `grad` function is itself a function. \n",
    "Therefore, to perform the gradient of a more complex function, you need to create a function that performs the whole process and pass this to `grad`. \n",
    "For example, to find the gradient of $x^2 + \\log(x)$ at $x=0.1$,\n",
    "````{margin}\n",
    "```{note}\n",
    "It is left as an exercise for the reader to check the results of the code cells here. \n",
    "```\n",
    "```` "
   ]
  },
  {
   "cell_type": "code",
   "execution_count": null,
   "metadata": {},
   "outputs": [],
   "source": [
    "def f(x):\n",
    "    \"\"\"\n",
    "    An example function for JAX. \n",
    "    :param x: input to the function.\n",
    "    :return: output of the function.\n",
    "    \"\"\"\n",
    "    return jnp.square(x) + jnp.log(x)\n",
    "\n",
    "grad_complex = grad(f)\n",
    "grad_complex(0.1)"
   ]
  },
  {
   "cell_type": "markdown",
   "metadata": {},
   "source": [
    "It is also possible to calculate higher-order derivatives with JAX by nesting the returns of the `grad` function. "
   ]
  },
  {
   "cell_type": "code",
   "execution_count": null,
   "metadata": {},
   "outputs": [],
   "source": [
    "grad_complex_two = grad(grad(f))\n",
    "grad_complex_two(0.1)"
   ]
  },
  {
   "cell_type": "markdown",
   "metadata": {},
   "source": [
    "It is essential to highlight here that as JAX is an array computation library, it is possible to use JAX arrays to perform the derivative at many values of $x$ with a single call. \n",
    "However, we must use a vectorising map, `vmap`, which maps a function over the arguments. "
   ]
  },
  {
   "cell_type": "code",
   "execution_count": null,
   "metadata": {},
   "outputs": [],
   "source": [
    "from jax import vmap\n",
    "import matplotlib.pyplot as plt\n",
    "\n",
    "x = jnp.linspace(0, 1, 100)\n",
    "y = jnp.square(x)\n",
    "y_dash = vmap(grad(jnp.square))(x)\n",
    "\n",
    "fig, ax = plt.subplots(1, 2, figsize=(8, 4))\n",
    "ax[0].plot(x, y)\n",
    "ax[0].set_xlabel('x')\n",
    "ax[0].set_ylabel('y')\n",
    "ax[1].plot(x, y_dash)\n",
    "ax[1].set_xlabel('x')\n",
    "ax[1].set_ylabel('dy/dx')\n",
    "plt.tight_layout()\n",
    "plt.show()"
   ]
  }
 ],
 "metadata": {
  "kernelspec": {
   "display_name": "special-topics",
   "language": "python",
   "name": "python3"
  },
  "language_info": {
   "codemirror_mode": {
    "name": "ipython",
    "version": 3
   },
   "file_extension": ".py",
   "mimetype": "text/x-python",
   "name": "python",
   "nbconvert_exporter": "python",
   "pygments_lexer": "ipython3",
   "version": "3.11.10"
  }
 },
 "nbformat": 4,
 "nbformat_minor": 2
}
