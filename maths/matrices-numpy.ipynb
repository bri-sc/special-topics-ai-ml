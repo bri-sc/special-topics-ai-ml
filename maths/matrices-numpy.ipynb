{
 "cells": [
  {
   "cell_type": "markdown",
   "metadata": {},
   "source": [
    "# Matrices with NumPy\n",
    "\n",
    "Similar to vectors, we can describe matrices with NumPy arrays. \n",
    "For example, the 2&times;2 identity matrix from earlier can be assigned as,"
   ]
  },
  {
   "cell_type": "code",
   "execution_count": null,
   "metadata": {},
   "outputs": [],
   "source": [
    "import numpy as np\n",
    "\n",
    "M = np.array([[1, 0], [0, 1]])\n",
    "M"
   ]
  },
  {
   "cell_type": "markdown",
   "metadata": {},
   "source": [
    "````{margin}\n",
    "```{note}\n",
    "Alongside the `np.identity` function, there is also a `np.eye` function which performs the same operation and takes the same arguments.\n",
    "```\n",
    "````\n",
    "Since this is a special type of matrix, there are also convenience functions built into NumPy to help you create them. "
   ]
  },
  {
   "cell_type": "code",
   "execution_count": null,
   "metadata": {},
   "outputs": [],
   "source": [
    "np.identity(2)"
   ]
  },
  {
   "cell_type": "markdown",
   "metadata": {},
   "source": [
    "To construct the matrix, a list of lists is passed to the array function.\n",
    "These lists are the rows of the array. \n",
    "Therefore, to assign the variable that describes the matrix, $\\mathbf{M'}$, from Eqn. {eq}`new-basis-set` the following is used. "
   ]
  },
  {
   "cell_type": "code",
   "execution_count": null,
   "metadata": {},
   "outputs": [],
   "source": [
    "M_dash = np.array([[0, -1], [1, 0]])"
   ]
  },
  {
   "cell_type": "markdown",
   "metadata": {},
   "source": [
    "Similar to standard brackets, the square brackets that define lists can also be used to spread information over lines making it easier to read. \n",
    "This allows `M_dash` to be rewritten. "
   ]
  },
  {
   "cell_type": "code",
   "execution_count": null,
   "metadata": {},
   "outputs": [],
   "source": [
    "M_dash = np.array([[0, -1],\n",
    "                   [1, 0]])"
   ]
  },
  {
   "cell_type": "markdown",
   "metadata": {},
   "source": [
    "NumPy offers other convenient functionality for working with matrices. \n",
    "For example, the transpose of a matrix can be found as the `.T` property of the matrix. "
   ]
  },
  {
   "cell_type": "code",
   "execution_count": null,
   "metadata": {},
   "outputs": [],
   "source": [
    "my_matrix = np.array([[0, 4], [1, 2], [2, 7]])\n",
    "my_matrix"
   ]
  },
  {
   "cell_type": "code",
   "execution_count": null,
   "metadata": {},
   "outputs": [],
   "source": [
    "my_matrix.T"
   ]
  },
  {
   "cell_type": "markdown",
   "metadata": {},
   "source": [
    "It was mentioned previously, that as the size of a matrix increases, the inverse becomes harder to calculate. \n",
    "NumPy can help with that with the `np.linalg.inv` function. "
   ]
  },
  {
   "cell_type": "code",
   "execution_count": null,
   "metadata": {},
   "outputs": [],
   "source": [
    "large_matrix = np.random.randint(1, 10, size=(5, 5))\n",
    "large_matrix"
   ]
  },
  {
   "cell_type": "markdown",
   "metadata": {},
   "source": [
    "Above a 5&times;5 matrix os random numbers between 1 and 10 (inclusive/exclusive) has been defined. \n",
    "The inverse can then be found. "
   ]
  },
  {
   "cell_type": "code",
   "execution_count": null,
   "metadata": {},
   "outputs": [],
   "source": [
    "np.linalg.inv(large_matrix)"
   ]
  },
  {
   "cell_type": "markdown",
   "metadata": {},
   "source": [
    "## Matrix Multiplication\n",
    "\n",
    "NumPy enables very efficient matrix multiplication operations. \n",
    "However, because matrix multiplication is distinct from trying to multiply two arrays, i.e., it is not desired to multiply each pair of numbers, it is necessary to make use of a NumPy function, `np.matmul`, instead of the `*` operator.\n",
    "Therefore, to perform the matrix multiplication of $\\mathbf{M'}$ with the vector $\\mathbf{r}$ the following operation is used. "
   ]
  },
  {
   "cell_type": "code",
   "execution_count": null,
   "metadata": {},
   "outputs": [],
   "source": [
    "r = np.array([2, 3])\n",
    "np.matmul(M_dash, r)"
   ]
  },
  {
   "cell_type": "markdown",
   "metadata": {},
   "source": [
    "There is also a more convenient operator that can also be used to perform the same operation."
   ]
  },
  {
   "cell_type": "code",
   "execution_count": null,
   "metadata": {},
   "outputs": [],
   "source": [
    "M_dash @ r"
   ]
  },
  {
   "cell_type": "markdown",
   "metadata": {},
   "source": [
    "This is sometimes known as the \"at\"-operator, which will perform a matrix multiplication between two NumPy arrays.\n",
    "Matrix multiplication will be used heavily in the Data Science sections to come."
   ]
  }
 ],
 "metadata": {
  "kernelspec": {
   "display_name": "kinisi-scipp",
   "language": "python",
   "name": "python3"
  },
  "language_info": {
   "codemirror_mode": {
    "name": "ipython",
    "version": 3
   },
   "file_extension": ".py",
   "mimetype": "text/x-python",
   "name": "python",
   "nbconvert_exporter": "python",
   "pygments_lexer": "ipython3",
   "version": "3.12.7"
  },
  "orig_nbformat": 4
 },
 "nbformat": 4,
 "nbformat_minor": 2
}
