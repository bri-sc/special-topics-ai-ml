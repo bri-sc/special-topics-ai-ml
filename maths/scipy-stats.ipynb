{
 "cells": [
  {
   "cell_type": "markdown",
   "metadata": {},
   "source": [
    "# SciPy Statistical Objects\n",
    "\n",
    "The SciPy library has some fantastic functionality for working with statistical objects. \n",
    "Specifically, here we will look at the [`scipy.stats.rv_continuous`](https://docs.scipy.org/doc/scipy/reference/generated/scipy.stats.rv_continuous.html) base class (and the discrete sibling, [`scipy.stats.rv_discrete`](https://docs.scipy.org/doc/scipy/reference/generated/scipy.stats.rv_discrete.html)).\n",
    "This base class is used to gain access to a range of functionality for different statistical distributions. \n",
    "We can find a full list of the distributions that can be modelled in the [SciPy documentation](https://docs.scipy.org/doc/scipy/reference/stats.html).\n",
    "\n",
    "## Discrete Distributions \n",
    "\n",
    "We will start by looking at the [`bernoulli`](https://docs.scipy.org/doc/scipy/reference/generated/scipy.stats.bernoulli.html#scipy.stats.bernoulli) distribution. \n",
    "This can be imported as follows."
   ]
  },
  {
   "cell_type": "code",
   "execution_count": 1,
   "metadata": {},
   "outputs": [],
   "source": [
    "from scipy.stats import bernoulli"
   ]
  },
  {
   "cell_type": "markdown",
   "metadata": {},
   "source": [
    "The Bernoulli distribution has a single parameter, $p$, so we can create a `bernoulli` object, which is a super class of the `rv_discrete` type, that models a fair coin as shown. "
   ]
  },
  {
   "cell_type": "code",
   "execution_count": null,
   "metadata": {},
   "outputs": [],
   "source": [
    "p = 0.5 \n",
    "\n",
    "fair_coin = bernoulli(p)"
   ]
  },
  {
   "cell_type": "markdown",
   "metadata": {},
   "source": [
    "The `fair_coin` object can be used to simulate a number of coin flips, below we simulate 10 000 and plot the resulting histogram. "
   ]
  },
  {
   "cell_type": "code",
   "execution_count": null,
   "metadata": {},
   "outputs": [],
   "source": [
    "import numpy as np\n",
    "import matplotlib.pyplot as plt\n",
    "\n",
    "flips = fair_coin.rvs(10_000)\n",
    "\n",
    "y, x = np.histogram(flips, bins=2, density=True)\n",
    "\n",
    "fig, ax = plt.subplots()\n",
    "ax.bar(x[::2], y, width=0.1)\n",
    "ax.set_xlabel('$k$')\n",
    "ax.set_ylabel('$P(X=k)$')\n",
    "ax.set_xticks([0, 1])\n",
    "ax.set_xticklabels(['Tails', 'Heads'])\n",
    "plt.show()"
   ]
  },
  {
   "cell_type": "markdown",
   "metadata": {},
   "source": [
    "We can see, that over 10 000 observations, the coin **appears** fair. \n",
    "The `rvs` method samples random variables from the distribution. \n",
    "This method is available for any `rv_discrete` or `rv_continous` object. \n",
    "\n",
    "If we wanted to simulate rolling a fair dice, we could use a uniform discrete distribution. \n",
    "Each side of the fair dice is equally likely. \n",
    "The uniform discrete distribution in SciPy is called `randint`. "
   ]
  },
  {
   "cell_type": "code",
   "execution_count": 41,
   "metadata": {},
   "outputs": [],
   "source": [
    "from scipy.stats import randint\n",
    "\n",
    "low = 1\n",
    "high = 7\n",
    "fair_dice = randint(low, high)"
   ]
  },
  {
   "cell_type": "markdown",
   "metadata": {},
   "source": [
    "We can plot the PMF of this distribution using the `pmf` method. "
   ]
  },
  {
   "cell_type": "code",
   "execution_count": null,
   "metadata": {},
   "outputs": [],
   "source": [
    "x = np.arange(low, high)\n",
    "\n",
    "fig, ax = plt.subplots()\n",
    "ax.bar(x, fair_dice.pmf(x))\n",
    "ax.set_xlabel('$k$')\n",
    "ax.set_ylabel('$P(X=k)$')\n",
    "plt.show()"
   ]
  },
  {
   "cell_type": "markdown",
   "metadata": {},
   "source": [
    "## Continuous Distributions\n",
    "\n",
    "The `rv_continuous` object has many of the same features as the `rv_discrete`. \n",
    "So lets look first at the model for a normal distribution. \n",
    "````{margin}\n",
    "```{warning}\n",
    "As [highlighted in the documentation](https://docs.scipy.org/doc/scipy/reference/generated/scipy.stats.norm.html), the parameter for `norm` are the mean and the standard deviation, which is the square root of the variance. \n",
    "```\n",
    "````"
   ]
  },
  {
   "cell_type": "code",
   "execution_count": null,
   "metadata": {},
   "outputs": [],
   "source": [
    "from scipy.stats import norm\n",
    "\n",
    "mu = 0\n",
    "sigma = 1\n",
    "standard_normal = norm(mu, sigma)\n",
    "\n",
    "x = np.linspace(-4, 4, 1000)\n",
    "\n",
    "fig, ax = plt.subplots(1, 2, figsize=(8, 4))\n",
    "ax[0].plot(x, standard_normal.pdf(x))\n",
    "ax[0].set_xlabel('$x$')\n",
    "ax[0].set_ylabel('$P(x)$')\n",
    "ax[0].set_ylim(0, None)\n",
    "ax[1].plot(x, standard_normal.cdf(x))\n",
    "ax[1].set_xlabel('$x$')\n",
    "ax[1].set_ylabel('$P(X \\leq x)$')\n",
    "ax[1].set_ylim(0, None)\n",
    "plt.tight_layout()\n",
    "plt.show()"
   ]
  },
  {
   "cell_type": "markdown",
   "metadata": {},
   "source": [
    "Above, we plot the PDF and CDF for a *standard normal* distribution. \n",
    "This is a special type of normal distribution where the mean is 0 and the variance (and standard deviation) is 1. \n",
    "\n",
    "These SciPy objects have a `stats` method, that can be used to find out the parameters of the distribution. "
   ]
  },
  {
   "cell_type": "code",
   "execution_count": null,
   "metadata": {},
   "outputs": [],
   "source": [
    "standard_normal.stats()"
   ]
  }
 ],
 "metadata": {
  "kernelspec": {
   "display_name": "special-topics",
   "language": "python",
   "name": "python3"
  },
  "language_info": {
   "codemirror_mode": {
    "name": "ipython",
    "version": 3
   },
   "file_extension": ".py",
   "mimetype": "text/x-python",
   "name": "python",
   "nbconvert_exporter": "python",
   "pygments_lexer": "ipython3",
   "version": "3.11.10"
  }
 },
 "nbformat": 4,
 "nbformat_minor": 2
}
