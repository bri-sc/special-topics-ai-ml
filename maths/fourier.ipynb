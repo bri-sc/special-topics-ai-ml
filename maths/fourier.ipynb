{
 "cells": [
  {
   "cell_type": "markdown",
   "metadata": {
    "vscode": {
     "languageId": "plaintext"
    }
   },
   "source": [
    "# Fourier Transforms\n",
    "\n",
    "Probably the most important integral in science is the Fourier transform. \n",
    "The Fourier transform was first developed in 1822 by French mathematician [Joesph Fourier](https://en.wikipedia.org/wiki/Joseph_Fourier), who was trying to create an analytical theory of heat transfer. \n",
    "In the process of doing this, he claimed that any function, continuous or discontinuous, can be described with an expanded series of sine waves; the process of this expansion is a **Fourier transform**. \n",
    "From this expanded series of sine waves, we can obtain information about the frequency of the function, which, as we will see, is very useful in analysing scientific data. \n",
    "\n",
    "```{figure} ../images/ft-gif.gif\n",
    "---\n",
    "name: ft-gif\n",
    "height: 215px\n",
    "---\n",
    "A graphical description of the decomposition of a function into a series of sine waves that give frequency information from the original function, i.e., the Fourier transform.\n",
    "```\n",
    "\n",
    "The Fourier transform can be written as an infinite integral, \n",
    "\n",
    "$$\n",
    "\\widehat {f}(\\xi )=\\int _{-\\infty }^{\\infty }f(x)\\ e^{-i2\\pi \\xi x}\\;\\text{d}x.\n",
    "$$\n",
    "\n",
    "For [some functions](https://en.wikipedia.org/wiki/Fourier_inversion_theorem#Conditions_on_the_function), it is possible to invert the Fourier transform, \n",
    "\n",
    "$$\n",
    "f(x)=\\int _{-\\infty }^{\\infty }{\\widehat {f}}(\\xi )\\ e^{i2\\pi \\xi x}\\;d\\xi.\n",
    "$$\n",
    "\n",
    "```{admonition} Fourier Transforms in Diffraction\n",
    ":class: tip\n",
    "The Fourier transform is a valuable tool in chemistry and physics, where it can be used to estimate the structure of molecules from diffraction. \n",
    "Diffraction is the process where waves of light (X-rays), neutrons, or electrons interact with the periodic structure of a molecular system, such as a crystal lattice. \n",
    "As these waves encounter the regularly spaced atoms in a molecule or crystal, they scatter in specific directions due to constructive and destructive interference.\n",
    "We can think of a diffraction pattern as the Fourier transform of the positions of the molecules in space. \n",
    "```\n",
    "\n",
    "The relationship between the Fourier transform and its inverse is referred to as a Fourier transform pair, and typically the following notation is used, \n",
    "\n",
    "$$\n",
    "f(x)\\ {\\stackrel {\\mathcal {F}}{\\longleftrightarrow }}\\ {\\widehat {f}}(\\xi ),\n",
    "$$\n",
    "\n",
    "where the $\\mathcal{F}$ \"fancy-F\" indicates a Fourier transform has been used. \n",
    "However, the above equations are somewhat intangible; let's look at some practical implementations.\n",
    "\n",
    "```{admonition} Further Reading\n",
    ":class: reading\n",
    "To get a better handle on **what** a Fourier transform **is**, below is a great 3Blue1Brown video on the subject.\n",
    "<center>\n",
    "<iframe width=\"560\" height=\"315\" src=\"https://www.youtube.com/embed/spUNpyF58BY?si=dOKuaJnAUgIKWXHD\" title=\"YouTube video player\" frameborder=\"0\" allow=\"accelerometer; autoplay; clipboard-write; encrypted-media; gyroscope; picture-in-picture; web-share\" referrerpolicy=\"strict-origin-when-cross-origin\" allowfullscreen></iframe>\n",
    "</center>\n",
    "```\n",
    "\n",
    "## Fourier Series\n",
    "\n",
    "A specific application of the Fourier transforms to periodic, i.e., repeating functions, is known as a Fourier series; in fact, this is what is shown in {numref}` ft-gif.\n",
    "The difference between the Fourier transform, and the Fourier series is that the latter produces discrete frequencies rather than a continuous spectrum.\n",
    "The equation for the Fourier series is \n",
    "\n",
    "$$\n",
    "f(x)=\\sum _{n=-\\infty }^{\\infty }c_{n}\\,e^{i2\\pi {\\tfrac {n}{P}}x},\n",
    "$$\n",
    "\n",
    "which can also be written as a summation of discrete sine waves, \n",
    "````{margin}\n",
    "```{note}\n",
    "Personally, I prefer the notation in Eqn. {eq}`sines-series` as it avoids the complex number notation.\n",
    "```\n",
    "````\n",
    "\n",
    "$$\n",
    "f(x) = a_0 + \\sum_{n=1}^{\\infty} \\left[a_n \\cos\\left(\\frac {n}{P} x\\right) + b_n \\sin\\left(\\frac {n}{P} x\\right)\\right],\n",
    "$$ (sines-series)\n",
    "\n",
    "where $a_n$ and $b_n$ are the Fourier coefficients. \n",
    "Let's look at using Python to decompose a given function into its Fourier coefficients. \n",
    "Consider the following function, \n",
    "\n",
    "$$\n",
    "f(x) = \\sin(2x) + 2 \\cos(10x) + 0.6 \\sin(20x), \n",
    "$$\n",
    "\n",
    "which gives something that looks like the following. "
   ]
  },
  {
   "cell_type": "code",
   "execution_count": null,
   "metadata": {},
   "outputs": [],
   "source": [
    "import numpy as np\n",
    "import matplotlib.pyplot as plt\n",
    "\n",
    "x = np.linspace(0, 2*np.pi, 100)\n",
    "y = np.sin(2 * x) + 2 * np.cos(10 * x) + 0.6 * np.sin(20 * x)\n",
    "\n",
    "fig, ax = plt.subplots()\n",
    "\n",
    "ax.plot(x, y)\n",
    "ax.set_xlabel('x')\n",
    "ax.set_ylabel('f(x)')\n",
    "plt.show()"
   ]
  },
  {
   "cell_type": "markdown",
   "metadata": {},
   "source": [
    "If we were given this data without information about the functional form, would it be possible to get the values for $a_n$ and $b_n$?\n",
    "This is where the Fourier transform (or, more strictly, in this case, the discrete Fourier transform) can help. \n",
    "In `numpy`, we can access a Fourier transform with the `np.fft.fft` function. \n",
    "\n",
    "````{margin}\n",
    "```{note}\n",
    "The `np.fft.fft` function performs what is called a [fast Fourier transform](https://en.wikipedia.org/wiki/Fast_Fourier_transform) (FFT). \n",
    "This special algorithm can estimate a (discrete) Fourier transform highly efficiently. \n",
    "The FFT was popularised by Cooley and Tukey (pioneers of data science) in the 1960s but was originally invented by [Carl Friedrich Gauss](https://en.wikipedia.org/wiki/Carl_Friedrich_Gauss) in the 1800s, who used it to study the trajectories of asteroids. \n",
    "```\n",
    "````"
   ]
  },
  {
   "cell_type": "code",
   "execution_count": 3,
   "metadata": {},
   "outputs": [],
   "source": [
    "yf = np.fft.fft(y)"
   ]
  },
  {
   "cell_type": "markdown",
   "metadata": {},
   "source": [
    "We need to normalise `yf` by half the number of samples to obtain numerically meaningful results. "
   ]
  },
  {
   "cell_type": "code",
   "execution_count": 4,
   "metadata": {},
   "outputs": [],
   "source": [
    "yf /= y.size * 0.5"
   ]
  },
  {
   "cell_type": "markdown",
   "metadata": {},
   "source": [
    "It is also necessary to obtain the frequency axis, which can be achieved with the `np.fft.fftfreq` function. \n",
    "This produces number from $\\frac{-(n-1)}{2nd}$ to $\\frac{(n-1)}{2nd}$, where $n$ is the number of samples and $d$ is the sample spacing. "
   ]
  },
  {
   "cell_type": "code",
   "execution_count": 5,
   "metadata": {},
   "outputs": [],
   "source": [
    "frequency = np.fft.fftfreq(y.size, d=1/x.size)"
   ]
  },
  {
   "cell_type": "markdown",
   "metadata": {},
   "source": [
    "The `fft` output is an array of [complex numbers](https://en.wikipedia.org/wiki/Complex_number), with real and imaginary components. \n",
    "Let's look at plotting each. "
   ]
  },
  {
   "cell_type": "code",
   "execution_count": null,
   "metadata": {},
   "outputs": [],
   "source": [
    "fig, ax = plt.subplots()\n",
    "\n",
    "ax.plot(frequency, np.abs(yf.real), label='real')\n",
    "ax.plot(frequency, np.abs(yf.imag), label='imag')\n",
    "ax.set_xlabel(r'$\\xi$')\n",
    "ax.set_ylabel(r'$\\hat{f}(\\xi)$')\n",
    "ax.legend()\n",
    "plt.show()"
   ]
  },
  {
   "cell_type": "markdown",
   "metadata": {},
   "source": [
    "This can be a little difficult to interpret, so let's look at the positive values of $\\xi$. "
   ]
  },
  {
   "cell_type": "code",
   "execution_count": null,
   "metadata": {},
   "outputs": [],
   "source": [
    "fig, ax = plt.subplots()\n",
    "\n",
    "ax.plot(frequency, np.abs(yf.real), label='real')\n",
    "ax.plot(frequency, np.abs(yf.imag), label='imag')\n",
    "ax.set_xlabel(r'$\\xi$')\n",
    "ax.set_ylabel(r'$\\hat{f}(\\xi)$')\n",
    "ax.set_xlim(0, None)\n",
    "ax.legend()\n",
    "plt.show()"
   ]
  },
  {
   "cell_type": "markdown",
   "metadata": {},
   "source": [
    "It is clear that there are three peaks in each signal, and the larger one at each position corresponds to the sine or cosine part in Eqn. {eq}`sines-series`. \n",
    "We can see that in the real signal, one peak is larger than the imaginary signal. \n",
    "This is at $\\xi$ of 10, corresponding to $n/P$ of 10, which has a height of around 2, the Fourier coefficient $a_{10}$. \n",
    "The same is true for the real signal and the sine parts. \n",
    "However, you may notice that the signal isn't perfect, e.g., the peaks at $\\xi$ of 20 are very similar in height, so it may be hard to determine if this is a sine or a cosine part. \n",
    "\n",
    "## Discrete Fourier Transform\n",
    "\n",
    "Computationally, working with continuous functions is challenging. \n",
    "Usually, we handle discrete values of some variable. \n",
    "Indeed, this is the case above. \n",
    "For this, neither the Fourier transform nor the Fourier series are suitable, as they both take a continuous input. \n",
    "Hence, we use the **discrete Fourier transform**, \n",
    "\n",
    "$$\n",
    "X_{k}=\\sum _{n=0}^{N-1}x_{n}\\cdot e^{-i2\\pi {\\tfrac {k}{N}}n}. \n",
    "$$ (dft)\n",
    "\n",
    "Notice that there are no longer any $\\infty$ symbols in this function.\n",
    "\n",
    "The discrete Fourier transform can be considered analogous to a Fourier series but for a discrete input. \n",
    "Hence, if your input has a high enough sampling (i.e., as the sampling frequency tends to infinity), the discrete Fourier transform tends to a Fourier series.\n",
    "We can see this in action by repeating the above analysis but on a finer grid of points in $x$. \n",
    "Instead of using 100 samples, we use 10 000 samples below."
   ]
  },
  {
   "cell_type": "code",
   "execution_count": null,
   "metadata": {},
   "outputs": [],
   "source": [
    "x = np.linspace(0, 2*np.pi, 10_000)\n",
    "y = np.sin(2 * x) + 2 * np.cos(10 * x) + 0.6 * np.sin(20 * x)\n",
    "\n",
    "yf = np.fft.fft(y) / (y.size * 0.5)\n",
    "frequency = np.fft.fftfreq(y.size, d=1/x.size)\n",
    "\n",
    "fig, ax = plt.subplots()\n",
    "\n",
    "ax.plot(frequency, np.abs(yf.real), label='real')\n",
    "ax.plot(frequency, np.abs(yf.imag), label='imag')\n",
    "ax.set_xlabel(r'$\\xi$')\n",
    "ax.set_ylabel(r'$\\hat{f}(\\xi)$')\n",
    "ax.set_xlim(0, 50)\n",
    "ax.legend()\n",
    "plt.show()"
   ]
  },
  {
   "cell_type": "markdown",
   "metadata": {},
   "source": [
    "You will notice that the higher sampling frequency significantly improves the accuracy of the Fourier coefficient estimation. \n",
    "This is a common problem in the scientific applications of Fourier analysis. \n",
    "The resolution of our measurements may not be sufficiently high to provide high-accuracy estimates of the Fourier coefficients. \n",
    "\n",
    "```{admonition} Fourier Transforms for Periodicity\n",
    ":class: tip\n",
    "One of the most common applications of Fourier transforms is to investigate the periodicity of some function. \n",
    "For example, consider a single periodic sine wave; the Fourier transform would be a single delta function at the periodic frequency of the wave. \n",
    "This makes Fourier transforms extremely powerful in measuring repeating trends in measured data. \n",
    "```"
   ]
  }
 ],
 "metadata": {
  "kernelspec": {
   "display_name": "special-topics",
   "language": "python",
   "name": "python3"
  },
  "language_info": {
   "codemirror_mode": {
    "name": "ipython",
    "version": 3
   },
   "file_extension": ".py",
   "mimetype": "text/x-python",
   "name": "python",
   "nbconvert_exporter": "python",
   "pygments_lexer": "ipython3",
   "version": "3.11.10"
  }
 },
 "nbformat": 4,
 "nbformat_minor": 2
}
