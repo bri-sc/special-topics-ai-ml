{
 "cells": [
  {
   "cell_type": "markdown",
   "metadata": {},
   "source": [
    "# Singular Value Decomposition\n",
    "\n",
    "Signular Value Decomposition (or SVD) is a generalisation of eigendecomposition that breaks any shape of matrix down to simpler components. \n",
    "So while eigendecomposition requires the input matrix to be square, SVD does not have this expectation.\n",
    "The SVD of the matrix $\\mathbf{A}$ can be written as: \n",
    "\n",
    "$$\n",
    "\\mathbf{A} = \\mathbf{U}\\mathbf{\\Sigma}\\mathbf{V}^\\top.\n",
    "$$ (svd)\n",
    "\n",
    "The components that SVD decomposes $\\mathbf{A}$ can be thought of as the application of three individual linear transformations, which are shown in {numref}`svd-three`. \n",
    "\n",
    "```{figure} ../images/svd.png\n",
    "---\n",
    "name: svd-three\n",
    "height: 430px\n",
    "---\n",
    "The decomposition of the matrix $\\mathbf{M}$ into $\\mathbf{V}^\\top$, $\\mathbf{\\Sigma}$, and $\\mathbf{U}$. \n",
    "```\n",
    "\n",
    "These linear transformations perform the following geometrical operations to the vector space:\n",
    "- $\\mathbf{V}^\\top$: Rotates the input space.\n",
    "- $\\mathbf{\\Sigma}$: Stretches the rotated space along the principal axes by factors given by the singular values, $\\mathbf{S}$. \n",
    "- $\\mathbf{U}$: Rotates the new stretched space.\n",
    "\n",
    "## SVD in NumPy\n",
    "\n",
    "NumPy can be used to perform SVD for a given matrix. \n",
    "Consider the matrix $\\mathbf{M}$ in {numref}`svd-three` above, which has the value, \n",
    "\n",
    "$$\n",
    "\\mathbf{M} = \\begin{bmatrix} 1 & -2 \\\\ 1 & 1 \\end{bmatrix}.\n",
    "$$\n",
    "\n",
    "We can find the SVD components using NumPy as follows. "
   ]
  },
  {
   "cell_type": "code",
   "execution_count": null,
   "metadata": {},
   "outputs": [],
   "source": [
    "import numpy as np\n",
    "\n",
    "M = np.array([[1, 2], [1, 1]])\n",
    "U, S, Vt = np.linalg.svd(M)"
   ]
  },
  {
   "cell_type": "markdown",
   "metadata": {},
   "source": [
    "We can numerically check the observed transformation of the vector $\\mathbf{v}$. "
   ]
  },
  {
   "cell_type": "code",
   "execution_count": null,
   "metadata": {},
   "outputs": [],
   "source": [
    "v = np.array([[1], [1]])"
   ]
  },
  {
   "cell_type": "markdown",
   "metadata": {},
   "source": [
    "Let's start with the rotation by $\\mathbf{V}^\\top$. "
   ]
  },
  {
   "cell_type": "code",
   "execution_count": null,
   "metadata": {},
   "outputs": [],
   "source": [
    "Vt @ v"
   ]
  },
  {
   "cell_type": "markdown",
   "metadata": {},
   "source": [
    "This new position agrees well with the observed rotation in {numref}`svd-three`. \n",
    "Next, we add the stretching using $\\mathbf{\\Sigma}$, which is a diagonal matrix with diagonal values of $\\mathbf{S}$."
   ]
  },
  {
   "cell_type": "code",
   "execution_count": null,
   "metadata": {},
   "outputs": [],
   "source": [
    "np.diag(S) @ Vt @ v"
   ]
  },
  {
   "cell_type": "markdown",
   "metadata": {},
   "source": [
    "Finally, to reach the vector of $\\mathbf{v}' = -1 \\mathbf{i} + 2 \\mathbf{j}$, we rotate by $\\mathbf{U}$. "
   ]
  },
  {
   "cell_type": "code",
   "execution_count": null,
   "metadata": {},
   "outputs": [],
   "source": [
    "U @ np.diag(S) @ Vt @ v"
   ]
  },
  {
   "cell_type": "markdown",
   "metadata": {},
   "source": [
    "We can see that this gives us the expected outcome. \n",
    "\n",
    "## How To Perform SVD?\n",
    "\n",
    "The individual components from SVD can be described as follows:\n",
    "- $\\mathbf{U}$: The columns of $\\mathbf{U}$ are the eigenvectors of the matrix $\\mathbf{M}\\mathbf{M}^\\top$.\n",
    "- $\\mathbf{\\Sigma}$: Represent the \"strength\" of each mode in the transformation and is a diagonal matrix, where the diagonal values are the square roots of the eigenvalues of $\\mathbf{M}^\\top\\mathbf{M}$. \n",
    "- $\\mathbf{V}^\\top$: The columns of $\\mathbf{V}$ are the eigenvectors of the matrix $\\mathbf{M}^\\top\\mathbf{M}$. \n",
    "\n",
    "Let's check these, starting with $\\mathbf{U}$. "
   ]
  },
  {
   "cell_type": "code",
   "execution_count": null,
   "metadata": {},
   "outputs": [],
   "source": [
    "np.linalg.eig(M @ M.T).eigenvectors, U"
   ]
  },
  {
   "cell_type": "markdown",
   "metadata": {},
   "source": [
    "These values are the same, accounting for some numerical sign-switching. \n",
    "This sign switching is simply a 180 &deg; rotation of the vector space, which arrives due to the fact that SVD is not unique. \n",
    "\n",
    "We can now look at $\\mathbf{\\Sigma}$."
   ]
  },
  {
   "cell_type": "code",
   "execution_count": null,
   "metadata": {},
   "outputs": [],
   "source": [
    "np.sqrt(np.linalg.eig(M.T @ M).eigenvalues), S"
   ]
  },
  {
   "cell_type": "markdown",
   "metadata": {},
   "source": [
    "The `np.linalg.svd` algorithm sorts `S`, so that the largest value is first. \n",
    "The algorithm does the same to the $\\mathbf{V}^\\top$, matrix, therefore, to get agreement, the columns need to be sorted."
   ]
  },
  {
   "cell_type": "code",
   "execution_count": null,
   "metadata": {},
   "outputs": [],
   "source": [
    "cols = np.argsort(np.linalg.eig(M.T @ M).eigenvalues)[::-1]\n",
    "np.linalg.eig(M.T @ M).eigenvectors[:, cols], Vt"
   ]
  },
  {
   "cell_type": "markdown",
   "metadata": {},
   "source": [
    "Again, the values agree, accounting for the non-unique nature of singular value decomposition. "
   ]
  }
 ],
 "metadata": {
  "kernelspec": {
   "display_name": "intensive",
   "language": "python",
   "name": "python3"
  },
  "language_info": {
   "codemirror_mode": {
    "name": "ipython",
    "version": 3
   },
   "file_extension": ".py",
   "mimetype": "text/x-python",
   "name": "python",
   "nbconvert_exporter": "python",
   "pygments_lexer": "ipython3",
   "version": "3.12.7"
  }
 },
 "nbformat": 4,
 "nbformat_minor": 2
}
