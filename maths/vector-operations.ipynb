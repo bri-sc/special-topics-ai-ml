{
 "cells": [
  {
   "cell_type": "markdown",
   "metadata": {},
   "source": [
    "# Vector Operations\n",
    "\n",
    "The complexity of {numref}`particles-arrows` is reduced slightly in {numref}`vector` by showing only the vectors.  \n",
    "```{figure} ../images/vector.svg\n",
    "---\n",
    "name: vector\n",
    "height: 300px\n",
    "---\n",
    "The vector-only description of the particle positions.\n",
    "```\n",
    "\n",
    "## Vector arithmetic\n",
    "\n",
    "Now it is possible to consider what happens when arithmetic is performed between two vectors. \n",
    "Consider the vector between particle 1 and 2, $\\mathbf{r}_{12}$ ({numref}`vector-addition`), which can be found via vector subtraction, e.g.,\n",
    "\n",
    "$$\n",
    "\\mathbf{r}_{12} = \\mathbf{r}_2 - \\mathbf{r}_1.\n",
    "$$ (vector-subtraction)\n",
    "\n",
    "```{figure} ../images/vector-addition.svg\n",
    "---\n",
    "name: vector-addition\n",
    "height: 300px\n",
    "---\n",
    "The result of vector subtraction to determine the vector between two points. \n",
    "```\n",
    "\n",
    "This is the difference between the common terms for the basis vectors, \n",
    "\n",
    "$$\n",
    "\\mathbf{r}_{12} = (6\\mathbf{i} + 3\\mathbf{j}) - (2\\mathbf{i} + 4\\mathbf{j}) = 6\\mathbf{i} - 2\\mathbf{i} + 3\\mathbf{j} - 4\\mathbf{j} = 4\\mathbf{i} - 1\\mathbf{j}.\n",
    "$$ (vector-subtraction-alt)\n",
    "\n",
    "````{margin}\n",
    "```{note}\n",
    "While shown for two dimensions, this same logic can be extended to three dimensions with the inclusion of an additional $\\mathbf{k}$ basis vector.\n",
    "```\n",
    "````\n",
    "From this, the magnitude of the vector (the length) can be computed, which is the distance between particles 1 and 2. \n",
    "This is the root sum of squares for the individual components, i.e., the magnitude of $\\mathbf{r}_{12}$ is,\n",
    "\n",
    "$$\n",
    "|\\mathbf{r}_{12}| = \\sqrt{4 ^ 2 + (-1)^2} = \\sqrt{17} = 4.123\\ldots.\n",
    "$$ (vector-magnitude) \n",
    "\n",
    "Similar to traditional subtraction and addition, we can rearrange Eqn. {eq}`vector-subtraction` to give vector addition,\n",
    "\n",
    "$$\n",
    "\\mathbf{r}_2 = \\mathbf{r}_{12} + \\mathbf{r}_1.\n",
    "$$ (vector-add)\n",
    "\n",
    "So if the vectors $\\mathbf{r}_1$ and $\\mathbf{r}_{12}$ are known it is possible to calculate the vector $\\mathbf{r}_2$. \n",
    "\n",
    "## The dot product\n",
    "\n",
    "````{margin}\n",
    "```{note}\n",
    "A scalar is a physical quantity that is described completely by a magnitude, i.e., there is no direction. \n",
    "```\n",
    "````\n",
    "The {term}`dot product` is a type of vector multiplication that returns a single value, hence it can be referred to as the scalar product (to distinguish from the vector, cross product). \n",
    "The mathematical operation for the dot product, written as $\\mathbf{a} \\cdot \\mathbf{b}$, the sum of the product of the individual components of each vector, i.e., \n",
    "\n",
    "$$\n",
    "\\mathbf{a}\\cdot\\mathbf{b} = \\sum_{i}^{n} a_i b_i = a_1 b_1 + a_2 b_2 + \\ldots + a_n b_n.\n",
    "$$ (dot-product)\n",
    "\n",
    "The dot product has the additional utility that it can be used to calculate the angle between the two vectors, $\\theta$, using the alternative definition\n",
    "\n",
    "$$\n",
    "\\mathbf{a}\\cdot\\mathbf{b} = |\\mathbf{a}| |\\mathbf{b}|\\cos{\\theta},  \n",
    "$$ (theta-product)\n",
    "\n",
    "where the $|\\mathbf{a}|$ indicates the magnitude of the vector $\\mathbf{a}$\n",
    "\n",
    "```{figure} ../images/vector-angle.svg\n",
    "---\n",
    "name: vector-angle\n",
    "height: 300px\n",
    "---\n",
    "The angle, $\\theta$, between two vectors. \n",
    "```\n",
    "\n",
    "## Vector with NumPy\n",
    "\n",
    "Consider again the vectors in {numref}`vector`, we can define NumPy arrays that describe these."
   ]
  },
  {
   "cell_type": "code",
   "execution_count": null,
   "metadata": {},
   "outputs": [],
   "source": [
    "import numpy as np\n",
    "\n",
    "r1 = np.array([2, 4])\n",
    "r2 = np.array([6, 3])\n",
    "r3 = np.array([5, 1])"
   ]
  },
  {
   "cell_type": "markdown",
   "metadata": {},
   "source": [
    "In addition to thinking of these arrays as arrays of data, as is typically the case for NumPy, we can also think of these as our vectors. \n",
    "NumPy arrays lend themselves naturally to vector arithmetic operations, like subtraction. "
   ]
  },
  {
   "cell_type": "code",
   "execution_count": null,
   "metadata": {},
   "outputs": [],
   "source": [
    "r12 = r2 - r1\n",
    "print(r12)"
   ]
  },
  {
   "cell_type": "markdown",
   "metadata": {},
   "source": [
    "````{admonition} Converting vectors to arrays\n",
    ":class: tip\n",
    "Above, NumPy arrays are used to represent mathematical vectors. \n",
    "However, it is sometimes desirable to increase the dimensionality of a vector, turning from a one-dimensional NumPy array to a two-dimensional row or column matrix. \n",
    "This can be achieved with either the `reshape()` method or by using the `np.newaxis` keyword in conjunction with a slicing operation. \n",
    "For example, `r1` has the value,\n",
    "\n",
    "```python\n",
    "array([2, 4])\n",
    "```\n",
    "\n",
    "While, `r1.reshape(-1, 1)` and `r1[:, np.newaxis]` have the value, \n",
    "\n",
    "```python\n",
    "array([[2],\n",
    "       [4]])\n",
    "```\n",
    "\n",
    "The `-1` in the reshape method tells it to use a value that will work with the other value, in this case, the `1` that follows. \n",
    "This is because it is only possible to reshape into shapes that the original NumPy array will fit. \n",
    "\n",
    "This reshaping operation can be very useful in allowing the efficiency of NumPy to be leveraged. \n",
    "Often removing the need to perform a loop over a series of NumPy arrays, simply by restructuring the problem.\n",
    "````\n",
    "\n",
    "Notice that this is the same result as found previously in Eqn. {eq}`vector-subtraction-alt`.\n",
    "There is even a convenient function to find the magnitude of a vector, also known as the vector norm. "
   ]
  },
  {
   "cell_type": "code",
   "execution_count": null,
   "metadata": {},
   "outputs": [],
   "source": [
    "d12 = np.linalg.norm(r12)\n",
    "print(d12)"
   ]
  },
  {
   "cell_type": "markdown",
   "metadata": {},
   "source": [
    "Additionally, the dot product between two vectors can be found in two ways."
   ]
  },
  {
   "cell_type": "code",
   "execution_count": null,
   "metadata": {},
   "outputs": [],
   "source": [
    "dot_product = np.dot(r1, r2)\n",
    "print(dot_product)"
   ]
  },
  {
   "cell_type": "code",
   "execution_count": null,
   "metadata": {},
   "outputs": [],
   "source": [
    "times_and_sum = np.sum(r1 * r2)\n",
    "print(times_and_sum)"
   ]
  },
  {
   "cell_type": "markdown",
   "metadata": {},
   "source": [
    "Notice that both approaches produce the same result. "
   ]
  }
 ],
 "metadata": {
  "kernelspec": {
   "display_name": "intensive",
   "language": "python",
   "name": "python3"
  },
  "language_info": {
   "codemirror_mode": {
    "name": "ipython",
    "version": 3
   },
   "file_extension": ".py",
   "mimetype": "text/x-python",
   "name": "python",
   "nbconvert_exporter": "python",
   "pygments_lexer": "ipython3",
   "version": "3.10.12"
  },
  "orig_nbformat": 4
 },
 "nbformat": 4,
 "nbformat_minor": 2
}
