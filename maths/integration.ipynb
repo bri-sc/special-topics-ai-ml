{
 "cells": [
  {
   "cell_type": "markdown",
   "metadata": {},
   "source": [
    "# Integration\n",
    "\n",
    "Integration is often introduced as the inverse of differentiation. \n",
    "Indeed, to calculate the integral of some function, we just performed the opposite operation to Eqn. {eq}`diff-general`. \n",
    "However, when discussing integration in a graphical context, we are told that the integral is the area under a curve drawn by the function. \n",
    "Here, I want to show how these two facts are analogous. \n",
    "\n",
    "## Rectangle Method\n",
    "\n",
    "Let's consider some function $f(x) = \\sqrt{x}$.\n",
    "We can plot this with `matplotlib`. "
   ]
  },
  {
   "cell_type": "code",
   "execution_count": null,
   "metadata": {},
   "outputs": [],
   "source": [
    "import numpy as np\n",
    "import matplotlib.pyplot as plt\n",
    "\n",
    "x = np.linspace(0, 1, 1000)\n",
    "y = np.sqrt(x)\n",
    "\n",
    "fig, ax = plt.subplots()\n",
    "\n",
    "ax.plot(x, y)\n",
    "ax.set_xlabel('$x$')\n",
    "ax.set_ylabel('$f(x)$')\n",
    "plt.show()"
   ]
  },
  {
   "cell_type": "markdown",
   "metadata": {},
   "source": [
    "If we want to estimate the area under this curve, from $x=0.2$ to $x=0.8$, we can imagine drawing a rectangle with a width of 0.6 and height of $f(0.2)$. "
   ]
  },
  {
   "cell_type": "code",
   "execution_count": null,
   "metadata": {},
   "outputs": [],
   "source": [
    "fig, ax = plt.subplots()\n",
    "\n",
    "x_area = [0.2]\n",
    "y_area = np.sqrt([0.2])\n",
    "\n",
    "ax.plot(x, y)\n",
    "ax.bar(x_area, y_area, align='edge', \n",
    "       width=np.diff([0.2, 0.8]), alpha=0.5)\n",
    "ax.set_xlabel('$x$')\n",
    "ax.set_ylabel('$f(x)$')\n",
    "plt.show()"
   ]
  },
  {
   "cell_type": "markdown",
   "metadata": {},
   "source": [
    "The area of this rectangle is as follows:"
   ]
  },
  {
   "cell_type": "code",
   "execution_count": null,
   "metadata": {},
   "outputs": [],
   "source": [
    "np.diff(x_area) * np.sqrt(0.2)"
   ]
  },
  {
   "cell_type": "markdown",
   "metadata": {},
   "source": [
    "This is a poor estimate of the area under the curve. \n",
    "The only part where the rectangle meets the curve is at $x=0.2$. \n",
    "However, what if we had a few rectangles and added up the individual areas? \n",
    "We can use rectangles with a $\\text{d}x$ width.\n",
    "\n",
    "````{margin}\n",
    "```{note}\n",
    "The slightly strange `np.linspace` arguments are necessary to overcome floating-point round-off errors.\n",
    "```\n",
    "````"
   ]
  },
  {
   "cell_type": "code",
   "execution_count": null,
   "metadata": {},
   "outputs": [],
   "source": [
    "fig, ax = plt.subplots()\n",
    "\n",
    "dx = 0.1\n",
    "x_area = np.arange(2, 8, dx * 10) / 10\n",
    "y_area = np.sqrt(x_area)\n",
    "\n",
    "ax.plot(x, y)\n",
    "ax.bar(x_area, y_area, align='edge', \n",
    "       width=np.diff(x_area)[0], alpha=0.5)\n",
    "ax.set_xlabel('$x$')\n",
    "ax.set_ylabel('$f(x)$')\n",
    "plt.show()"
   ]
  },
  {
   "cell_type": "markdown",
   "metadata": {},
   "source": [
    "This is a slightly better estimate of the area under the curve."
   ]
  },
  {
   "cell_type": "code",
   "execution_count": null,
   "metadata": {},
   "outputs": [],
   "source": [
    "np.sum(dx * y_area)"
   ]
  },
  {
   "cell_type": "markdown",
   "metadata": {},
   "source": [
    "If we continue this process, taking narrower and narrower rectangles, we should eventually reach a reasonable estimate of the area. \n",
    "This can be said mathematically as $\\text{d}x \\to 0$, the sum of the rectangles tends towards the true area. "
   ]
  },
  {
   "cell_type": "code",
   "execution_count": null,
   "metadata": {},
   "outputs": [],
   "source": [
    "fig, ax = plt.subplots()\n",
    "\n",
    "dx = 0.0001\n",
    "x_area = np.arange(0.2, 0.8, dx)\n",
    "y_area = np.sqrt(x_area)\n",
    "\n",
    "ax.plot(x, y)\n",
    "ax.bar(x_area, y_area, align='edge', \n",
    "       width=dx, alpha=0.5)\n",
    "ax.set_xlabel('$x$')\n",
    "ax.set_ylabel('$f(x)$')\n",
    "plt.show()"
   ]
  },
  {
   "cell_type": "markdown",
   "metadata": {},
   "source": [
    "Which are can be calculated as follows."
   ]
  },
  {
   "cell_type": "code",
   "execution_count": null,
   "metadata": {},
   "outputs": [],
   "source": [
    "np.sum(dx * y_area)"
   ]
  },
  {
   "cell_type": "markdown",
   "metadata": {},
   "source": [
    "This is known as the rectangle method for computing integrals; it is a type of [Riemann sum](https://en.wikipedia.org/wiki/Riemann_sum). \n",
    "It is commonly used in computation to find the value of an integral numerically. \n",
    "We note here that other approaches to compute integrals numerically exist, i.e., the trapezoidal rule.\n",
    "\n",
    "## Why Is the Integral the Opposite of a Derivative? \n",
    "\n",
    "For some finite $\\text{d}x$, the estimate of the integral of $f(x)$ from $x=0.2$ to $x=0.8$, which we will call $g$, can be written with the following sum, \n",
    "\n",
    "$$\n",
    "g = \\sum_{x=0.2}^{0.8} f(x) \\;a\\text{d}x.\n",
    "$$\n",
    "\n",
    "When $\\text{d}x$ is infinitesimally small, we use the following integral notation, \n",
    "\n",
    "$$\n",
    "g = \\int_{0.2}^{0.8} fx \\;\\text{d}x.\n",
    "$$\n",
    "\n",
    "We can replace $0.8$ with the variable $x_2$, so the function $g$ now depends on $x_2$. \n",
    "\n",
    "$$\n",
    "g(x_2) = \\int_{0.2}^{x_2} fx \\;\\text{d}x.\n",
    "$$\n",
    "\n",
    "The difference in the integral where $x_2=0.8$ and $x_2=0.9$ is shown below. "
   ]
  },
  {
   "cell_type": "code",
   "execution_count": null,
   "metadata": {},
   "outputs": [],
   "source": [
    "x_area2 = np.arange(0.8, 0.9, dx)\n",
    "y_area2 = np.sqrt(x_area2)\n",
    "\n",
    "fig, ax = plt.subplots()\n",
    "\n",
    "ax.plot(x, y)\n",
    "ax.bar(x_area, y_area, align='edge', \n",
    "       width=dx, alpha=0.5)\n",
    "ax.bar(x_area2, y_area2, align='edge', \n",
    "       width=dx, alpha=0.5)\n",
    "ax.set_xlabel('$x$')\n",
    "ax.set_ylabel('$f(x)$')\n",
    "plt.show()"
   ]
  },
  {
   "cell_type": "markdown",
   "metadata": {},
   "source": [
    "The value of this change in area can be written as\n",
    "\n",
    "$$\n",
    "\\text{d}g(x_2) = f(x_2)\\;\\text{d}x, \n",
    "$$\n",
    "\n",
    "which can be rearranged to give, \n",
    "\n",
    "$$ \n",
    "\\frac{\\text{d}g(x_2)}{\\text{d}x} = f(x_2).\n",
    "$$\n",
    "\n",
    "This tells us that the derivative of any function that gives the area of a graph is equal to the function itself, showing the anti-derivative nature of integrals. \n",
    "\n",
    "### What About the Offset?\n",
    "\n",
    "If we consider curves, $y_1 = x^2$ and $y_2 = x^2 + 1$, you may notice that these have the same derivative, but the area under the curve would be different (by values of $1$). "
   ]
  },
  {
   "cell_type": "code",
   "execution_count": null,
   "metadata": {},
   "outputs": [],
   "source": [
    "x = np.linspace(-1, 1, 1000)\n",
    "y1 = x ** 2\n",
    "y2 = x ** 2 + 1\n",
    "\n",
    "fig, ax = plt.subplots()\n",
    "\n",
    "ax.plot(x, y1)\n",
    "ax.plot(x, y2)\n",
    "ax.set_xlabel('$x$')\n",
    "ax.set_ylabel('$y$')\n",
    "plt.show()"
   ]
  },
  {
   "cell_type": "markdown",
   "metadata": {},
   "source": [
    "This is where the constant $C$ arises from the condition of an indefinite integral. \n",
    "This is to say, one where there are no bounds (the subscript and superscript values around the integral). \n",
    "\n",
    "## Integrals in Python\n",
    "\n",
    "We have already seen how an integral may be computed numerically in Python using some Riemann sum. \n",
    "But, similar to differentiation, we can use the `sympy` library to compute integrals symbolically. "
   ]
  },
  {
   "cell_type": "code",
   "execution_count": null,
   "metadata": {},
   "outputs": [],
   "source": [
    "from sympy import symbols, integrate\n",
    "\n",
    "x = symbols('x')\n",
    "\n",
    "integrate(x ** 0.5, x)"
   ]
  },
  {
   "cell_type": "markdown",
   "metadata": {},
   "source": [
    "This matches with the result from the general formula, the inverse of Eqn. {eq}`diff-general`, \n",
    "\n",
    "$$\n",
    "\\int x^n \\text{d}x = \\frac{x^{n+1}}{n+1} + C, \n",
    "$$\n",
    "\n",
    "where $n \\neq -1$. \n",
    "We can use this to check the result of our summation above by computing the difference between the results of the above equation at $x=0.8$ and $x=0.2$. \n",
    "\n",
    "````{margin}\n",
    "```{note}\n",
    "The `subs` method will substitute a numerical value for a given symbol.\n",
    "```\n",
    "````"
   ]
  },
  {
   "cell_type": "code",
   "execution_count": null,
   "metadata": {},
   "outputs": [],
   "source": [
    "integrate(x ** 0.5, x).subs(x, 0.8) - integrate(x ** 0.5, x).subs(x, 0.2)"
   ]
  },
  {
   "cell_type": "markdown",
   "metadata": {},
   "source": [
    "This matches well the result from the rectangle method with a small $\\text{d}x$. "
   ]
  }
 ],
 "metadata": {
  "kernelspec": {
   "display_name": "special-topics",
   "language": "python",
   "name": "python3"
  },
  "language_info": {
   "codemirror_mode": {
    "name": "ipython",
    "version": 3
   },
   "file_extension": ".py",
   "mimetype": "text/x-python",
   "name": "python",
   "nbconvert_exporter": "python",
   "pygments_lexer": "ipython3",
   "version": "3.11.10"
  }
 },
 "nbformat": 4,
 "nbformat_minor": 2
}
