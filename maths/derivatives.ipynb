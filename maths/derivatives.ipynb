{
 "cells": [
  {
   "cell_type": "markdown",
   "metadata": {},
   "source": [
    "# Derivatives\n",
    "\n",
    "The derivative describes the rate of change of a curve and at a given point on the curve, tells the gradient of the tangent line (see {numref}`calculus-intro`). \n",
    "Mathematically, where a one-dimensional curve is $f(x)$, the derivative is defined as:\n",
    "\n",
    "$$\n",
    "f'(x) = \\lim_{\\Delta x \\to 0} \\frac{f(x + \\Delta x) - f(x)}{\\Delta x},\n",
    "$$ (derivative-definition)\n",
    "\n",
    "which is to say that the derivative gives a description of how $f(x)$ changes at a infinitesimally small change in $x$, $\\Delta x \\to 0$.\n",
    "\n",
    "## How To Find a Derivative\n",
    "\n",
    "To investigate a solution of how to find a gradent, let's consider a plot of $f(x) = y = x^2$. \n",
    "We can plot this with Python. "
   ]
  },
  {
   "cell_type": "code",
   "execution_count": null,
   "metadata": {},
   "outputs": [],
   "source": [
    "import numpy as np \n",
    "import matplotlib.pyplot as plt\n",
    "\n",
    "x = np.linspace(0, 1, 1000)\n",
    "y = x ** 2\n",
    "\n",
    "fig, ax = plt.subplots()\n",
    "ax.plot(x, y)\n",
    "ax.set_xlabel('$x$')\n",
    "ax.set_ylabel('$y$')\n",
    "plt.show()"
   ]
  },
  {
   "cell_type": "markdown",
   "metadata": {},
   "source": [
    "For this system, the gradient at any point on the plot, $m$, can be calculated was the change in $\\Delta y / \\Delta x$. \n",
    "We can describe the numerator of that function in terms of $x$ alone, \n",
    "\n",
    "$$\n",
    "\\Delta y = (x + \\Delta x) ^ 2) - x^2.\n",
    "$$\n",
    "\n",
    "Therefore, we can rewrite the gradient as, \n",
    "\n",
    "$$\n",
    "m = \\frac{x^2 + 2x \\Delta x + \\Delta x^2 - x}{\\Delta x},\n",
    "$$\n",
    "\n",
    "and then simply to get, \n",
    "\n",
    "$$\n",
    "m = 2x + \\Delta x. \n",
    "$$\n",
    "\n",
    "This means that as $\\Delta x \\to 0$, the gradient tends to $2x$. \n",
    "For example, for the plot above, at $x = 0.5$, we can find the gradient. "
   ]
  },
  {
   "cell_type": "code",
   "execution_count": null,
   "metadata": {},
   "outputs": [],
   "source": [
    "gradient = 2 * 0.5\n",
    "offset = 0.5 ** 2 - gradient * 0.5\n",
    "\n",
    "fig, ax = plt.subplots()\n",
    "ax.plot(x, y)\n",
    "ax.plot(x, gradient * x + offset, '--', \n",
    "        label='First Derivative at 0.5')\n",
    "ax.set_xlabel('$x$')\n",
    "ax.set_ylabel('$y$')\n",
    "ax.legend()\n",
    "plt.show()"
   ]
  },
  {
   "cell_type": "markdown",
   "metadata": {},
   "source": [
    "So we can see the dashed line is at a tangent to the $x^2$ line at $x=0.5$. \n",
    "\n",
    "### Generalisation\n",
    "\n",
    "This result cna be generalised with the following formula, \n",
    "\n",
    "$$\n",
    "\\frac{\\text{d}(x^n)}{\\text{d}x} = nx^{n-1}, \n",
    "$$ \n",
    "\n",
    "which will give the gradient at any point along the curve. \n",
    "\n",
    "## Finding Derivatives in Python\n",
    "\n",
    "There is an interesting Python library that can be used to for *symbolic mathematics*, which just means maths with symbols, i.e., $x$, $y$, and $z$ instead of specific numerical values, known as `sympy`. \n",
    "This library is designed for symbolic mathematics explictly, this means that performing numerical calculations is *generally speaking* a bad idea. \n",
    "We present it here as a tool to aid understanding. \n",
    "\n",
    "`sympy` can be used to find the derivative of a given function. \n",
    "For example, this can be used to compute the same derivate as computed above manually. \n",
    "\n",
    "````{margin}\n",
    "```{warning}\n",
    "The `diff` function takes to arguments, the function to differentiate and the symbol to perform the derivative with respect to.\n",
    "```\n",
    "````"
   ]
  },
  {
   "cell_type": "code",
   "execution_count": null,
   "metadata": {},
   "outputs": [],
   "source": [
    "from sympy import symbols, diff\n",
    "\n",
    "x = symbols('x')\n",
    "diff(x ** 2, x)"
   ]
  },
  {
   "cell_type": "markdown",
   "metadata": {},
   "source": [
    "This library is a powerful tool that we will come back to a few times in this section. \n",
    "However, before we do that, let us see how differentiation can be used practically in our data science applications. "
   ]
  }
 ],
 "metadata": {
  "kernelspec": {
   "display_name": "special-topics",
   "language": "python",
   "name": "python3"
  },
  "language_info": {
   "codemirror_mode": {
    "name": "ipython",
    "version": 3
   },
   "file_extension": ".py",
   "mimetype": "text/x-python",
   "name": "python",
   "nbconvert_exporter": "python",
   "pygments_lexer": "ipython3",
   "version": "3.11.10"
  }
 },
 "nbformat": 4,
 "nbformat_minor": 2
}
