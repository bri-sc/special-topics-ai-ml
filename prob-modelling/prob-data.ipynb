{
 "cells": [
  {
   "cell_type": "markdown",
   "metadata": {},
   "source": [
    "# Thinking About Data Probabilistically\n",
    "\n",
    "No measurement is 100 % accurate, therefore, in many scientific applications there is uncertainty associated with our data. \n",
    "Including this uncertainty in the modelling and analysis we do is of paramount important as it can effect the certainty that we have about our conclusions.\n",
    "This section will look at some examples of probabilistic and Bayesian modelling. \n",
    "\n",
    "Let's consider the following data file to help us think about our data in a slightly different way. "
   ]
  },
  {
   "cell_type": "code",
   "execution_count": null,
   "metadata": {},
   "outputs": [],
   "source": [
    "import pandas as pd \n",
    "\n",
    "data = pd.read_csv('../data/first-order.csv')\n",
    "data"
   ]
  },
  {
   "cell_type": "markdown",
   "metadata": {},
   "source": [
    "This data is measurements of the concentration of a chemical species as a function of time, when it is undergoing a reaction. \n",
    "This data was from a chemistry textbook {cite}`Monk2010`. \n",
    "There are three columns, the first is the time, the second is the concentration and the third is the error in the concentration. \n",
    "Plotting data such as this with error bars is common, like we do below. "
   ]
  },
  {
   "cell_type": "code",
   "execution_count": null,
   "metadata": {},
   "outputs": [],
   "source": [
    "import matplotlib.pyplot as plt\n",
    "\n",
    "fig, ax = plt.subplots()\n",
    "ax.errorbar(data['t'], data['At'], data['At_err'], fmt='o')\n",
    "ax.set_xlabel('Time / s')\n",
    "ax.set_ylabel('[A] / M')\n",
    "plt.show()"
   ]
  },
  {
   "cell_type": "markdown",
   "metadata": {},
   "source": [
    "## The Meaning of Error Bars\n",
    "\n",
    "````{margin}\n",
    "```{note}\n",
    "I dream of a time when all figure captions make clear the meaning of the error bars in a plot. \n",
    "```\n",
    "````\n",
    "The *meaning* of error bars are often overlooked. \n",
    "What specifically are we describing with these vertical lines?\n",
    "Well, the answer is, that depends. \n",
    "The error bar often describes a single standard deviation, as the measurement is assumed to be [normally distributed](/maths/distributions.html#continuous-distributions). \n",
    "Therefore, if we take the data point at 2 seconds and imagine we are sitting on the plot looking down the *x*-axis, it would look like this. "
   ]
  },
  {
   "cell_type": "code",
   "execution_count": null,
   "metadata": {},
   "outputs": [],
   "source": [
    "import numpy as np\n",
    "from scipy.stats import norm\n",
    "\n",
    "a_range = np.linspace(data['At'][0] - 2, data['At'][0] + 2, 1000)\n",
    "\n",
    "fig, ax = plt.subplots()\n",
    "\n",
    "ax.fill_between(a_range, norm.pdf(a_range, data['At'][0], data['At_err'][0]))\n",
    "ax.set_xlabel('[A] / M')\n",
    "ax.set_ylabel('p([A])')\n",
    "ax.set_ylim(0, None)\n",
    "plt.show()"
   ]
  },
  {
   "cell_type": "markdown",
   "metadata": {},
   "source": [
    "Indeed, we could take this further and plot all five probability distributions in this way. "
   ]
  },
  {
   "cell_type": "code",
   "execution_count": null,
   "metadata": {},
   "outputs": [],
   "source": [
    "a_range = np.linspace(data['At'].min() - 1, data['At'].max() + 1, 1000)\n",
    "\n",
    "fig, ax = plt.subplots()\n",
    "[ax.fill_between(a_range, \n",
    "                 norm.pdf(a_range, data['At'][i], data['At_err'][i]), \n",
    "                 alpha=(i+1) / len(data)) \n",
    "                 for i in range(len(data))]\n",
    "ax.set_xlabel('[A] / M')\n",
    "ax.set_ylabel('p([A])')\n",
    "ax.set_ylim(0, None)\n",
    "plt.show()"
   ]
  },
  {
   "cell_type": "markdown",
   "metadata": {},
   "source": [
    "```{admonition} Data Aren't Always Normal\n",
    ":class: tip \n",
    "Be aware, that our data will not always be normally distributed, however, by treating our data probabilistically, as we will see, we can handle data following any distribution. \n",
    "Despite this, it is rare for experimentally collected data to be treated as anything but normal -- there are various reasons for this. \n",
    "Still, the most important is that random noise leads to a normal distribution, due to the central limit theorem. \n",
    "```"
   ]
  }
 ],
 "metadata": {
  "kernelspec": {
   "display_name": "special-topics",
   "language": "python",
   "name": "python3"
  },
  "language_info": {
   "codemirror_mode": {
    "name": "ipython",
    "version": 3
   },
   "file_extension": ".py",
   "mimetype": "text/x-python",
   "name": "python",
   "nbconvert_exporter": "python",
   "pygments_lexer": "ipython3",
   "version": "3.11.11"
  }
 },
 "nbformat": 4,
 "nbformat_minor": 2
}
