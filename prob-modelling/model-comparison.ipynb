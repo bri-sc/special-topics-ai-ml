{
 "cells": [
  {
   "cell_type": "markdown",
   "metadata": {},
   "source": [
    "# Model Comparison\n",
    "\n",
    "By computing the evidence, we can take advantage of model comparison. \n",
    "The evidence describes $p(D | M)$, the probability that the data, $D$, would be observed given some model $M$, regardless of the parameters of $M$. \n",
    "This means that by comparing the Bayesian evidence for two different models for the same data, we can quantify the relative quality of the models.\n",
    "Such a tool is extremely powerful in allowing the rational comparison of models, particularly in the context of overfitting, by using more complex models, i.e., analytical models with more and more parameters.\n",
    "You may be familiar with the idea that with five complex parameters, you can fit an elephant {cite}`Mayer2010`.\n",
    "Bayesian model selection is a tool that we can use to defend against this.\n",
    "\n",
    "## Bayes Factor\n",
    "\n",
    "The Bayes factor, $B$, enables the power of model comparison. \n",
    "This is computed to compare model $M_a$ with model $M_b$ as follows, \n",
    "\n",
    "$$\n",
    "B_{ba} = \\frac{p(M_b | D)}{p(M_a | D)} = \\frac{p(D | M_b)}{p(D | M_a)}\\frac{p(M_b)}{p(M_a)},\n",
    "$$\n",
    "\n",
    "where $p(M_a)$ is the prior associated with model $a$ and similarly for $p(M_b)$. \n",
    "These priors are associated with our relative confidence in each model, so if we think both models are equally likely, the ratio would be unity. \n",
    "However, if we believed that model $a$ was ten times more likely than model $b$, we would say that this ratio equals 10. \n",
    "\n",
    "### Interpretation of the Bayes Factor\n",
    "\n",
    "Typically, the Bayes factor's role is in comparing a more complex model $b$ with a simple model $a$, which we will see an example of in the next section. \n",
    "In {numref}`bayes-factor`, we outline the Interpretation provided by Kass and Raftery {cite}`Kass1995`, commonly used for comparing more complex models. \n",
    "One way to think about the Bayesian evidence in the context of comparing a simpler model with a more complex one is that the Bayesian evidence is an integral over all $\\Theta$, and a more complex model will add a dimension to this integral with each additional parameter. \n",
    "Therefore, for each parameter, there needs to be a substantial increase in the probability that the model describes the data. \n",
    "\n",
    "```{list-table} Interpretation of the Bayes factor from Kass and Raftery\n",
    ":header-rows: 1\n",
    ":name: bayes-factor\n",
    "\n",
    "* - log<sub>10</sub><i>B</i><sub>ab</sub> Range\n",
    "  - <i>B</i><sub>ab</sub> Range\n",
    "  - Evidence for a More Complex Model\n",
    "* - 0 - 0.5\n",
    "  - 1 - 3.2\n",
    "  - Not worth more than a bare mention\n",
    "* - 0.5 - 1\n",
    "  - 3.2 - 10 \n",
    "  - Substantial\n",
    "* - 1 - 2 \n",
    "  - 10 - 100\n",
    "  - Strong\n",
    "* - Greater than 2\n",
    "  - Greater than 100 \n",
    "  - Decisive\n",
    "```\n",
    "\n",
    "## Comparing COVID-19 Tests \n",
    "\n",
    "````{margin}\n",
    "```{note}\n",
    "The greater cost and complexity of test $b$ aims to mirror the greater complexity of a model with more numerical parameters. \n",
    "```\n",
    "````\n",
    "Consider our example from the previous section, where we were computing the evidence for a given COVID-19 test, which we will call test $a$. \n",
    "We want to compare test $a$ with another COVID-19 test $b$, which is more complex and expensive to administer.\n",
    "Bayesian model selection is the ideal tool for this. \n",
    "First, we will calculate again the evidence for model $a$. "
   ]
  },
  {
   "cell_type": "code",
   "execution_count": null,
   "metadata": {},
   "outputs": [],
   "source": [
    "likelihood_positive_covid_a = 0.995\n",
    "likelihood_negative_nocovid_a = 0.989\n",
    "prior_covid = 0.25\n",
    "\n",
    "evidence_a = likelihood_positive_covid_a * prior_covid + (\n",
    "    1 - likelihood_negative_nocovid_a) * (1 - prior_covid)\n",
    "evidence_a"
   ]
  },
  {
   "cell_type": "markdown",
   "metadata": {},
   "source": [
    "Now consider the more expensive test $b$, which the manufacturer claims will be positive when a patient has COVID-19 99.9 % of the time and negative when the patient does not have COVID-19 99.9 %. "
   ]
  },
  {
   "cell_type": "code",
   "execution_count": null,
   "metadata": {},
   "outputs": [],
   "source": [
    "likelihood_positive_covid_b = 0.9999\n",
    "likelihood_negative_nocovid_b = 0.989\n",
    "prior_covid = 0.25\n",
    "\n",
    "evidence_b = likelihood_positive_covid_b * prior_covid + (\n",
    "    1 - likelihood_negative_nocovid_b) * (1 - prior_covid)\n",
    "evidence_b"
   ]
  },
  {
   "cell_type": "markdown",
   "metadata": {},
   "source": [
    "We can then compute the Bayes factor between the two tests. "
   ]
  },
  {
   "cell_type": "code",
   "execution_count": null,
   "metadata": {},
   "outputs": [],
   "source": [
    "evidence_b / evidence_a"
   ]
  },
  {
   "cell_type": "markdown",
   "metadata": {},
   "source": [
    "This tells us that the more complex and expensive is \"not worth more than a bare mention\". \n",
    "However, this is just a toy example of how one computes the Bayesian evidence in a real Bayesian analysis. "
   ]
  }
 ],
 "metadata": {
  "kernelspec": {
   "display_name": "special-topics",
   "language": "python",
   "name": "python3"
  },
  "language_info": {
   "codemirror_mode": {
    "name": "ipython",
    "version": 3
   },
   "file_extension": ".py",
   "mimetype": "text/x-python",
   "name": "python",
   "nbconvert_exporter": "python",
   "pygments_lexer": "ipython3",
   "version": "3.11.11"
  }
 },
 "nbformat": 4,
 "nbformat_minor": 2
}
