{
 "cells": [
  {
   "cell_type": "markdown",
   "metadata": {},
   "source": [
    "# Bayesian Evidence\n",
    "\n",
    "Until now, we have broadly ignored the denominator on Bayes' theorem, known as the *Bayesian evidence*. \n",
    "Now, we will look at the meaning of this part of the equation and discuss the utility in the computation of it. \n",
    "\n",
    "The Bayesian evidence for some data, $D$, given some model, $M$, can be expressed as the marginal likelihood,\n",
    "\n",
    "$$\n",
    "p(D | M) = \\int p[D | M(\\Theta)]p[M(\\Theta)]\\;\\text{d}\\Theta,\n",
    "$$ (evidence)\n",
    "\n",
    "where the integral may be multi-dimensional over all $\\Theta$ space. \n",
    "So, the evidence is found as the integral over all possible parameter space. \n",
    "\n",
    "## A Discrete Example\n",
    "\n",
    "````{margin}\n",
    "```{note}\n",
    "This example potentially dates this resource, but hopefully, you will forgive me. \n",
    "```\n",
    "````\n",
    "It is most straightforward to discuss the computation of the Bayesian evidence in the context of a discrete example. \n",
    "Therefore, consider the example of conducting a particular type of COVID-19 test. \n",
    "From this test, we want to determine the probability that you have or don't have COVID-19, $p(x | +)$, such that $x=1$ indicates COVID-19.\n",
    "We can write Bayes' theorem for this as follows, \n",
    "\n",
    "$$\n",
    "p(x=1 | +) = \\frac{p(+ | x=1) p(x=1)}{p(+)}\n",
    "$$\n",
    "\n",
    "where the likelihood, $p(+ | x=1)$ is the probability of getting a positive test if you have COVID-19; for this example, we can say that the test is 99.5 % effective at identifying COVID-19. \n",
    "The prior should based on our inutition, for example, if you have a bad cough, you might want to pick a higher probability whereas if you feel fine, you may want to use the percentage frequency in the population.  \n",
    "Here, we will use a prior of 25 %, reflecting the cough we have. \n",
    "From Eqn. {eq}`evidence` we can write, \n",
    "\n",
    "$$\n",
    "p(+) = \\int p(+ | x) p(x)\\;\\textrm{d}x.\n",
    "$$\n",
    "\n",
    "However, there are only two outcomes: either you have COVID-19, or you don't, i.e., $x$ can be 1 if you have COVID-19 or 0 if you don't.\n",
    "So, we should write this as a sum of these two situations,\n",
    "\n",
    "$$\n",
    "p(+) = p(+ | x=1) p(x=1) + p(+ | x=0) p(x=0).\n",
    "$$ (evi-sum)\n",
    "\n",
    "Given that the test can also have only two outcomes, \n",
    "\n",
    "$$\n",
    "p(+ | x=0) + p(- | x=0) = 1,\n",
    "$$\n",
    "\n",
    "so we can rewrite Eqn. {eq}`evi-sum` as, \n",
    "\n",
    "$$\n",
    "p(+) = p(+ | x=1) p(x=1) + [1 - p(- | x=0)][1 - p(x=1)],\n",
    "$$ (evi-final)\n",
    "\n",
    "where $p(- | x=0)$ is the probability of a negative test result when you don't have COVID-19, which the manufacturer says is 98.8%.\n",
    "Putting these numbers into Eqn {eq}`evi-final`, we get, "
   ]
  },
  {
   "cell_type": "code",
   "execution_count": null,
   "metadata": {},
   "outputs": [],
   "source": [
    "likelihood_positive_covid = 0.995\n",
    "prior_covid = 0.25\n",
    "likelihood_negative_nocovid = 0.989\n",
    "\n",
    "likelihood_positive_covid * prior_covid + (\n",
    "    1 - likelihood_negative_nocovid) * (1 - prior_covid)"
   ]
  },
  {
   "cell_type": "markdown",
   "metadata": {},
   "source": [
    "````{margin}\n",
    "```{note}\n",
    "We leave the computation of the correctly normalised posterior as an exercise for the reader. \n",
    "```\n",
    "````\n",
    "This is to say that the Bayesian evidence for this type of test is 0.257. \n",
    "This can be used to compute the correctly normalised posterior or, as we will see next, to enable model comparison. "
   ]
  }
 ],
 "metadata": {
  "kernelspec": {
   "display_name": "special-topics",
   "language": "python",
   "name": "python3"
  },
  "language_info": {
   "codemirror_mode": {
    "name": "ipython",
    "version": 3
   },
   "file_extension": ".py",
   "mimetype": "text/x-python",
   "name": "python",
   "nbconvert_exporter": "python",
   "pygments_lexer": "ipython3",
   "version": "3.11.11"
  }
 },
 "nbformat": 4,
 "nbformat_minor": 2
}
