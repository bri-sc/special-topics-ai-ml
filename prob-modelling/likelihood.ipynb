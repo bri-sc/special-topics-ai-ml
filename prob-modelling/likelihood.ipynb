{
 "cells": [
  {
   "cell_type": "markdown",
   "metadata": {},
   "source": [
    "# Likelihood\n",
    "\n",
    "````{margin}\n",
    "```{note}\n",
    "Note the capital $\\Theta$ to indicate a vector of parameters. \n",
    "```\n",
    "````\n",
    "An important concept in probabilistic modelling is the likelihood, often written as $p[D | M(\\Theta)]$. \n",
    "We read this as the probability that some data, $D$, would be observed given an underlying model, $M$, with parameters $\\Theta$, which generates the data. \n",
    "Naturally, the higher this probability, the more likely that $D$ would be observed. \n",
    "Let's think about this for a straightforward model and data. \n",
    "\n",
    "## Simple Example\n",
    "\n",
    "We will start with a single data point, which is a normal distribution with a mean of 2.52 and a standard deviation of 0.65. \n",
    "Let's create a `scipy.stats` object to describe this, called `D` (for data)."
   ]
  },
  {
   "cell_type": "code",
   "execution_count": 9,
   "metadata": {},
   "outputs": [],
   "source": [
    "from scipy.stats import norm\n",
    "\n",
    "D = norm(2.52, 0.62)"
   ]
  },
  {
   "cell_type": "markdown",
   "metadata": {},
   "source": [
    "Now we need a model, $M$, with one parameter, $\\theta$,\n",
    "\n",
    "$$\n",
    "M(\\theta) = \\theta ^ 2.\n",
    "$$\n",
    "\n",
    "We can write a simple function to describe this,"
   ]
  },
  {
   "cell_type": "code",
   "execution_count": 10,
   "metadata": {},
   "outputs": [],
   "source": [
    "def M(theta):\n",
    "    \"\"\"\n",
    "    Our model function.\n",
    "    \n",
    "    :param theta: The parameter to evaluate the model at.\n",
    "    :return: The value of the model at theta.\n",
    "    \"\"\"\n",
    "    return theta ** 2"
   ]
  },
  {
   "cell_type": "markdown",
   "metadata": {},
   "source": [
    "We can compute the likelihood of a given $\\theta$ as the probability density function of the data at $M(\\theta)$.\n",
    "So for $\\theta$ of 1.5, we find the following.  "
   ]
  },
  {
   "cell_type": "code",
   "execution_count": null,
   "metadata": {},
   "outputs": [],
   "source": [
    "D.pdf(M(1.5))"
   ]
  },
  {
   "cell_type": "markdown",
   "metadata": {},
   "source": [
    "So the probability that the data, $D$, would be observed given the model, $M(1.5)$, $p[D | M(1.5)] \\approx 0.59$.\n",
    "We can present this visually with a plot. "
   ]
  },
  {
   "cell_type": "code",
   "execution_count": null,
   "metadata": {},
   "outputs": [],
   "source": [
    "import numpy as np\n",
    "import matplotlib.pyplot as plt\n",
    "\n",
    "data_range = np.linspace(0, 5, 1000)\n",
    "\n",
    "fig, ax = plt.subplots()\n",
    "\n",
    "ax.fill_between(data_range, D.pdf(data_range))\n",
    "ax.plot(M(1.5), D.pdf(M(1.5)), 'ko')\n",
    "ax.set_xlabel(r'$M(\\theta$)')\n",
    "ax.set_ylabel(r'$p[D|M(\\theta)]$')\n",
    "ax.set_ylim(0, None)\n",
    "plt.show()"
   ]
  },
  {
   "cell_type": "markdown",
   "metadata": {},
   "source": [
    "We can see that the black dot, which indicates $M(1.5)$, is not at the top of the probability density function. \n",
    "We say that the likelihood is not maximised. \n",
    "A simple optimisation algorithm can be used to maximise the likelihood. \n",
    "````{margin}\n",
    "```{note}\n",
    "Recall that the minimum is the same as the negative maximum. \n",
    "```\n",
    "````"
   ]
  },
  {
   "cell_type": "code",
   "execution_count": null,
   "metadata": {},
   "outputs": [],
   "source": [
    "from scipy.optimize import minimize\n",
    "\n",
    "def negative_likelihood(theta):\n",
    "    \"\"\"\n",
    "    The negative likelihood function.\n",
    "    \n",
    "    :param theta: The parameter to evaluate the negative likelihood at.\n",
    "    :return: The negative likelihood at theta.\n",
    "    \"\"\"\n",
    "    return -D.pdf(M(theta))\n",
    "\n",
    "res = minimize(negative_likelihood, 1.5)\n",
    "res.x"
   ]
  },
  {
   "cell_type": "markdown",
   "metadata": {},
   "source": [
    "We can see that the likelihood is maximised at a value of $\\theta$ of around 1.59."
   ]
  },
  {
   "cell_type": "code",
   "execution_count": null,
   "metadata": {},
   "outputs": [],
   "source": [
    "fig, ax = plt.subplots()\n",
    "\n",
    "ax.fill_between(data_range, D.pdf(data_range))\n",
    "ax.plot(M(res.x), D.pdf(M(res.x)), 'ko')\n",
    "ax.set_xlabel(r'$M(\\theta$)')\n",
    "ax.set_ylabel(r'$p[D|M(\\theta)]$')\n",
    "ax.set_ylim(0, None)\n",
    "plt.show()"
   ]
  },
  {
   "cell_type": "markdown",
   "metadata": {},
   "source": [
    "This looks like the maximum has been found, now we can extend it to a more complex data set. \n",
    "\n",
    "## Fitting a Model to Data\n",
    "\n",
    "Let's bring back the data from the previous section. "
   ]
  },
  {
   "cell_type": "code",
   "execution_count": null,
   "metadata": {},
   "outputs": [],
   "source": [
    "import pandas as pd \n",
    "\n",
    "data = pd.read_csv('../data/first-order.csv')\n",
    "\n",
    "fig, ax = plt.subplots()\n",
    "ax.errorbar(data['t'], data['At'], data['At_err'], fmt='o')\n",
    "ax.set_xlabel('Time / s')\n",
    "ax.set_ylabel('[A] / M')\n",
    "plt.show()"
   ]
  },
  {
   "cell_type": "markdown",
   "metadata": {},
   "source": [
    "As was mentioned, this data describes the concentration of a chemical species, $[A]$, as a function of time, $t$ during some reaction. \n",
    "This is known to follow what is called a first-order rate law, which has the following form, \n",
    "\n",
    "$$\n",
    "[A]_t = [A]_0\\exp{(-kt)},\n",
    "$$\n",
    "\n",
    "where $[A]_t$ is the concentration at time $t$, $[A]_0$ is the starting concentration, and $k$ is the rate constant, which describes the speed of the reaction. \n",
    "We can write the following function that describes this model. "
   ]
  },
  {
   "cell_type": "code",
   "execution_count": 27,
   "metadata": {},
   "outputs": [],
   "source": [
    "def first_order(t, k, A0):\n",
    "    \"\"\"\n",
    "    A first order rate equation.\n",
    "    \n",
    "    :param t: The time to evaluate the rate equation at.\n",
    "    :param k: The rate constant.\n",
    "    :param A0: The initial concentration of A.\n",
    "    \n",
    "    :return: The concentration of A at time t.\n",
    "    \"\"\"\n",
    "    return A0 * np.exp(-k * t)"
   ]
  },
  {
   "cell_type": "markdown",
   "metadata": {},
   "source": [
    "This equation is our model, $M(\\Theta)$, with parameters $\\Theta = [k,\\;[A]_0]$.\n",
    "\n",
    "To compute the likelihood of the data given some values of $\\Theta$ requires the data can be describes as a statistical distribution. \n",
    "We can achieve this by describing each datapoint with a normal distribution. "
   ]
  },
  {
   "cell_type": "code",
   "execution_count": null,
   "metadata": {},
   "outputs": [],
   "source": [
    "D = [norm(data['At'][i], data['At_err'][i]) for i in range(len(data))]"
   ]
  },
  {
   "cell_type": "markdown",
   "metadata": {},
   "source": [
    "```{admonition} The Multivariate Normal Distribution\n",
    ":class: tip\n",
    "Note, that this same process could be achieved using a multivariate (i.e., $N$-dimensional) normal distribution, where the covariance matrix is defined such that it is as diagonal matrix with the variances of the data on the diagonal. \n",
    "To achieve this, one may use the [`scipy.stats.multivariate_normal`](https://docs.scipy.org/doc/scipy/reference/generated/scipy.stats.multivariate_normal.html) object. \n",
    "However, this section will stick to the list of one-dimensional normal distributions. \n",
    "```\n",
    "\n",
    "Using this list of normal distributions, the likelihood of a given model is computed as a sum of the individual likelihoods. \n",
    "Let's look at this for $\\Theta = [0.12, 8.1]$. "
   ]
  },
  {
   "cell_type": "code",
   "execution_count": null,
   "metadata": {},
   "outputs": [],
   "source": [
    "theta = [0.12, 8.1]\n",
    "\n",
    "np.sum([d.pdf(first_order(t, *theta)) for d, t in zip(D, data['t'])])"
   ]
  },
  {
   "cell_type": "markdown",
   "metadata": {},
   "source": [
    "Therefore, the likelihood, $p[D | M(\\Theta)]$ is around 4.86. \n",
    "Let's see how that looks on the data. "
   ]
  },
  {
   "cell_type": "code",
   "execution_count": null,
   "metadata": {},
   "outputs": [],
   "source": [
    "a_range = np.linspace(data['At'].min() - 1, data['At'].max() + 1, 1000)\n",
    "fo = first_order(data['t'], *theta)\n",
    "\n",
    "fig, ax = plt.subplots(1, 2, figsize=(10, 4))\n",
    "ax[0].errorbar(data['t'], data['At'], data['At_err'], fmt='o')\n",
    "ax[0].plot(data['t'], fo)\n",
    "ax[0].set_xlabel('Time / s')\n",
    "ax[0].set_ylabel('[A] / M')\n",
    "[ax[1].fill_between(a_range, \n",
    "                    norm.pdf(a_range, data['At'][i], data['At_err'][i]), \n",
    "                    alpha=(i+1) / len(data)) for i in range(len(data))]\n",
    "[ax[1].plot(f, d.pdf(f), 'ko') for d, f in zip(D, fo)]\n",
    "ax[1].set_xlabel('[A] / M')\n",
    "ax[1].set_ylabel('p([A])')\n",
    "ax[1].set_ylim(0, None)\n",
    "plt.show()"
   ]
  },
  {
   "cell_type": "markdown",
   "metadata": {},
   "source": [
    "Once again, we do not maximise the likelihood of all distributions. \n",
    "Let's try optimising $\\Theta$. "
   ]
  },
  {
   "cell_type": "code",
   "execution_count": null,
   "metadata": {},
   "outputs": [],
   "source": [
    "def negative_likelihood(theta):\n",
    "    \"\"\"\n",
    "    The negative likelihood function for the first order rate equation.\n",
    "    \n",
    "    :param theta: The parameters to evaluate the negative likelihood at.\n",
    "    \n",
    "    :return: The negative likelihood at theta.\n",
    "    \"\"\"\n",
    "    return -np.sum([d.pdf(first_order(t, theta[0], theta[1])) \n",
    "                    for d, t in zip(D, data['t'])])\n",
    "\n",
    "res = minimize(negative_likelihood, [0.12, 8.1])\n",
    "res.x"
   ]
  },
  {
   "cell_type": "markdown",
   "metadata": {},
   "source": [
    "So the optimised parameters are about 0.10 and 7.56. \n",
    "We can plot these to see how we are doing. "
   ]
  },
  {
   "cell_type": "code",
   "execution_count": null,
   "metadata": {},
   "outputs": [],
   "source": [
    "a_range = np.linspace(data['At'].min() - 1, data['At'].max() + 1, 1000)\n",
    "fo = first_order(data['t'], *res.x)\n",
    "\n",
    "fig, ax = plt.subplots(1, 2, figsize=(10, 4))\n",
    "ax[0].errorbar(data['t'], data['At'], data['At_err'], fmt='o')\n",
    "ax[0].plot(data['t'], fo)\n",
    "ax[0].set_xlabel('Time / s')\n",
    "ax[0].set_ylabel('[A] / M')\n",
    "[ax[1].fill_between(a_range, \n",
    "                    norm.pdf(a_range, data['At'][i], data['At_err'][i]),\n",
    "                    alpha=(i+1) / len(data)) for i in range(len(data))]\n",
    "[ax[1].plot(f, d.pdf(f), 'ko') for d, f in zip(D, fo)]\n",
    "ax[1].set_xlabel('[A] / M')\n",
    "ax[1].set_ylabel('p([A])')\n",
    "ax[1].set_ylim(0, None)\n",
    "plt.show()"
   ]
  },
  {
   "cell_type": "markdown",
   "metadata": {},
   "source": [
    "This is a clear improvement, but we still don't reach the maximum on all probability distributions. \n",
    "For example, consider the distribution centred on $[A]$ of 3.76, is it clear that the model has not maximised the distribution in this case. \n",
    "However, recall that we are working with the constraint of a model $M$, hence the language \"given model, $M$, and parameters, $\\Theta$. \n",
    "No set of $\\Theta$ will fully maximise all of these distributions for the model $M$, instead we find the value that give the best maximum, overall. \n",
    "\n",
    "This is a very general approach to data analysis, and is closely related to the Bayesian modelling that we will look at later. \n",
    "However, you may notice that while we have optimised parameters, we don't yet have information about the uncertainty in our model. \n",
    "This is what we will probe next. "
   ]
  }
 ],
 "metadata": {
  "kernelspec": {
   "display_name": "special-topics",
   "language": "python",
   "name": "python3"
  },
  "language_info": {
   "codemirror_mode": {
    "name": "ipython",
    "version": 3
   },
   "file_extension": ".py",
   "mimetype": "text/x-python",
   "name": "python",
   "nbconvert_exporter": "python",
   "pygments_lexer": "ipython3",
   "version": "3.11.11"
  }
 },
 "nbformat": 4,
 "nbformat_minor": 2
}
