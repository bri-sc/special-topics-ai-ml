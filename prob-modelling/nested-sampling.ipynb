{
 "cells": [
  {
   "cell_type": "markdown",
   "metadata": {},
   "source": [
    "# Nested Sampling\n",
    "\n",
    "A popular and efficient algorithm to estimate the Bayesian evidence is known as nested sampling. \n",
    "Nested sampling was developed by the physicist John Skilling to improve the efficiency of Bayesian evidence estimation {cite}`Skilling2004`. \n",
    "The nested sampling algorithm aims to transform a high-dimensional evidence integral&mdash;recalling that the dimensionality of the evidence integral is the same as the number of paramters&mdash;into a one-dimensional sum over likelihood values. \n",
    "The nested sampling algorithm is conceptually relatively simple. \n",
    "Initially, we will describe it by analogy.\n",
    "\n",
    "```{admonition} Adventuring a Landscape\n",
    ":class: tip\n",
    "Consider a group of explorers investigating a mountainous landscape (the integral we want to compute). \n",
    "Instead of wandering randomly across the mountains (as in Markov chain Monte Carlo), nested sampling starts by placing a series of *scouts* randomly across the terrain (the placements are random samples from our priors).\n",
    "The scout in the lowest valley (the area of lowest probability) is replaced by a new one in a higher location. \n",
    "Over time, scouts climb higher and higher, focussing more and more on the landscape's most important (highest probability) regions. \n",
    "In keeping track of how much area/volume is discarded at each step of the algorithm to build up an estimation of the total volume of the landscape, the Bayesian evidence integral. \n",
    "```\n",
    "\n",
    "## The Algorithm\n",
    "\n",
    "The nested sampling algorithm starts with a formulation of the Bayesian evidence integral, \n",
    "\n",
    "$$\n",
    "p(D | M) = \\int p[D | M(\\Theta)]p[M(\\Theta)]\\;\\text{d}\\Theta,\n",
    "$$\n",
    "\n",
    "where $p(D | M(\\Theta))$ is the likelihood and $p(M(\\Theta))$ is the prior. \n",
    "We then introduce the *prior volume**, \n",
    "\n",
    "$$\n",
    "X(\\lambda) = \\int_{p[D | M(\\Theta)] > \\lambda} p[M(\\Theta)]\\;\\text{d}\\Theta, \n",
    "$$\n",
    "\n",
    "such that $X(\\lambda)$ represents the total prior mass where the likelihood is greater than $\\lambda$. \n",
    "From this, we can rewrite the evidence as, \n",
    "\n",
    "$$\n",
    "p(D | M) = \\int_0^1 p(D | X)\\;\\text{d}X, \n",
    "$$\n",
    "\n",
    "where, $p(D | X)$ is the likelihood value corresponding to the prior volume $X$. \n",
    "\n",
    "With the problem then reformulated, we can start to implement the algorithm. \n",
    "To achieve this, we are considering likelihood and prior functions that are both two-dimensional normal distributions over the parameters, $\\Theta = [\\theta_1, \\theta_2]$. "
   ]
  },
  {
   "cell_type": "code",
   "execution_count": null,
   "metadata": {},
   "outputs": [],
   "source": [
    "from scipy.stats import multivariate_normal as mv\n",
    "from scipy.stats import norm\n",
    "import matplotlib.pyplot as plt\n",
    "import numpy as np\n",
    "\n",
    "likelihood = mv(mean=[0.8, 2.2], cov=[[1, 0.5], [0.5, 1]])\n",
    "priors = [norm(loc=1, scale=1), norm(loc=2, scale=1.5)]\n",
    "\n",
    "x = np.linspace(-2, 4, 100)\n",
    "y = np.linspace(-1, 5, 100)\n",
    "X, Y = np.meshgrid(x, y)\n",
    "pos = np.dstack((X, Y))\n",
    "L_pdf = likelihood.pdf(pos)\n",
    "P_pdf = priors[0].pdf(X) * priors[1].pdf(Y)\n",
    "\n",
    "fig, ax = plt.subplots(1, 2, figsize=(10, 4))\n",
    "ax[0].contourf(X, Y, L_pdf)\n",
    "ax[0].set_title('Likelihood')\n",
    "ax[0].set_xlabel('$\\theta_1$')\n",
    "ax[0].set_ylabel('$\\theta_2$')\n",
    "ax[1].contourf(X, Y, P_pdf)\n",
    "ax[1].set_title('Prior')\n",
    "ax[0].set_xlabel('$\\theta_1$')\n",
    "ax[0].set_ylabel('$\\theta_2$')\n",
    "plt.show()"
   ]
  },
  {
   "cell_type": "markdown",
   "metadata": {},
   "source": [
    "Before we draw any samples, we set up the $\\ln\\{p[D | M(\\Theta)]\\}$ that will be updated and gradually estimated using this algorithm. \n",
    "````{margin}\n",
    "```{note}\n",
    "Recall the utility of logarithms in probabilistic sampling.\n",
    "```\n",
    "````"
   ]
  },
  {
   "cell_type": "code",
   "execution_count": 2,
   "metadata": {},
   "outputs": [],
   "source": [
    "log_evidence = -np.inf"
   ]
  },
  {
   "cell_type": "markdown",
   "metadata": {},
   "source": [
    "This starts with a value of the evidence of 0; hence, the logarithm is negative infinity. \n",
    "\n",
    "Next, we create the initial prior volume, 1, as the prior is a normalised probability distribution, i.e., the integral is 1. \n",
    "We also define the number of samples or live points to be used. "
   ]
  },
  {
   "cell_type": "code",
   "execution_count": 3,
   "metadata": {},
   "outputs": [],
   "source": [
    "N_samples = 1000\n",
    "X = 1"
   ]
  },
  {
   "cell_type": "markdown",
   "metadata": {},
   "source": [
    "With these aspects defined, we initialise our first samples. "
   ]
  },
  {
   "cell_type": "code",
   "execution_count": 4,
   "metadata": {},
   "outputs": [],
   "source": [
    "samples = np.vstack([priors[0].rvs(N_samples), priors[1].rvs(N_samples)]).T"
   ]
  },
  {
   "cell_type": "markdown",
   "metadata": {},
   "source": [
    "Then, we compute the likelihood for each of the samples. "
   ]
  },
  {
   "cell_type": "code",
   "execution_count": 5,
   "metadata": {},
   "outputs": [],
   "source": [
    "samples_logl = likelihood.logpdf(samples)"
   ]
  },
  {
   "cell_type": "markdown",
   "metadata": {},
   "source": [
    "Next, we update the logarithmic evidence with the worst log-likelihood, which will be discarded. \n",
    "We also remove the remove some section from the prior volume. \n",
    "Here, we take a naïve approach that assumes that the prior volume decreases following, \n",
    "\n",
    "$$\n",
    "X_i = X_{i-1} \\exp(\\frac{-1}{N}), \n",
    "$$\n",
    "\n",
    "where $i$ is the algorithm iteration and $N$ is the number of samples. "
   ]
  },
  {
   "cell_type": "code",
   "execution_count": 12,
   "metadata": {},
   "outputs": [],
   "source": [
    "X_new = X * np.exp(-1 / N_samples)\n",
    "dX = X - X_new\n",
    "X = X_new\n",
    "\n",
    "change_in_log_evidence = samples_logl.min() + np.log(dX)\n",
    "log_evidence = np.logaddexp(log_evidence, change_in_log_evidence)"
   ]
  },
  {
   "cell_type": "markdown",
   "metadata": {},
   "source": [
    "Note the use of the [`np.logaddexp`](https://numpy.org/doc/stable/reference/generated/numpy.logaddexp.html) convince function.\n",
    "We can now look at the log_evidence "
   ]
  },
  {
   "cell_type": "code",
   "execution_count": null,
   "metadata": {},
   "outputs": [],
   "source": [
    "log_evidence"
   ]
  },
  {
   "cell_type": "markdown",
   "metadata": {},
   "source": [
    "Now, we must use some approach to update the samples, discarding the worst for a new sample with a higher likelihood. \n",
    "Here, we implement a naïve accept-reject step, where new samples are drawn until a better sample is found. \n",
    "Other approaches are more efficient but more complex to discuss, such as using an MCMC step. "
   ]
  },
  {
   "cell_type": "code",
   "execution_count": 8,
   "metadata": {},
   "outputs": [],
   "source": [
    "def update_samples(sample, priors, likelihood):\n",
    "    \"\"\"\n",
    "    Update the samples using the prior and likelihood.\n",
    "    \n",
    "    :param sample: the current samples\n",
    "    :param prior: the prior distribution\n",
    "    :param likelihood: the likelihood distribution\n",
    "    \n",
    "    :return: New updated samples\n",
    "    \"\"\"\n",
    "    samples_logl = likelihood.logpdf(samples)\n",
    "    min_likelihood = samples_logl.min()\n",
    "    new_sample = np.array([priors[0].rvs(1), priors[0].rvs(1)]).flatten()\n",
    "    new_likelihood = likelihood.pdf(new_sample)\n",
    "    while min_likelihood > new_likelihood:\n",
    "        new_sample = np.array([priors[0].rvs(1), priors[0].rvs(1)]).flatten()\n",
    "        new_likelihood = likelihood.pdf(new_sample)\n",
    "    samples[samples_logl.argmin()] = new_sample\n",
    "    return samples\n",
    "\n",
    "samples = update_samples(samples, priors, likelihood)"
   ]
  },
  {
   "cell_type": "markdown",
   "metadata": {},
   "source": [
    "We can then construct this process into a loop with some stopping criteria. \n",
    "A standard stopping criterion is when very little change in the log evidence is observed with each additional iteration. "
   ]
  },
  {
   "cell_type": "code",
   "execution_count": 14,
   "metadata": {},
   "outputs": [],
   "source": [
    "log_evidence_list = []\n",
    "\n",
    "while change_in_log_evidence > -100:\n",
    "    samples_logl = likelihood.logpdf(samples)\n",
    "\n",
    "    dX = X / N_samples\n",
    "    X -= dX\n",
    "\n",
    "    change_in_log_evidence = samples_logl.min() + np.log(dX)\n",
    "    log_evidence_list.append(log_evidence)\n",
    "    log_evidence = np.logaddexp(log_evidence, change_in_log_evidence)\n",
    "    samples = update_samples(samples, priors, likelihood)\n",
    "\n",
    "log_evidence"
   ]
  },
  {
   "cell_type": "markdown",
   "metadata": {},
   "source": [
    "We can then visualise the log evidence as a function of iteration to check the convergence. "
   ]
  },
  {
   "cell_type": "code",
   "execution_count": null,
   "metadata": {},
   "outputs": [],
   "source": [
    "fig, ax = plt.subplots()\n",
    "\n",
    "ax.plot(log_evidence_list)\n",
    "ax.set_ylabel('log-Evidence')\n",
    "ax.set_xlabel('Iteration')\n",
    "ax.set_xscale('log')\n",
    "plt.show()"
   ]
  },
  {
   "cell_type": "markdown",
   "metadata": {},
   "source": [
    "Similar to many of the algorithms we have looked at, using an existing, more complete implementation is more effective than one we write ourselves. \n",
    "Therefore, let's look at using the `ultranest` package. "
   ]
  }
 ],
 "metadata": {
  "kernelspec": {
   "display_name": "special-topics",
   "language": "python",
   "name": "python3"
  },
  "language_info": {
   "codemirror_mode": {
    "name": "ipython",
    "version": 3
   },
   "file_extension": ".py",
   "mimetype": "text/x-python",
   "name": "python",
   "nbconvert_exporter": "python",
   "pygments_lexer": "ipython3",
   "version": "3.11.11"
  }
 },
 "nbformat": 4,
 "nbformat_minor": 2
}
